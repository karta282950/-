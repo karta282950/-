{
 "cells": [
  {
   "cell_type": "code",
   "execution_count": 2,
   "metadata": {},
   "outputs": [],
   "source": [
    "import tqdm\n",
    "import pandas as pd\n",
    "import numpy as np\n",
    "from tqdm import tqdm, notebook\n",
    "#tqdm_notebook().pandas()\n",
    "#notebook.tqdm().pandas()\n",
    "from sklearn.preprocessing import MinMaxScaler\n",
    "import torch\n",
    "import torch.nn as nn\n",
    "import pytorch_lightning as pl\n",
    "from torch import optim\n",
    "from pytorch_lightning.callbacks import ModelCheckpoint, EarlyStopping\n",
    "from pytorch_lightning.loggers import TensorBoardLogger\n",
    "from torch.utils.data import DataLoader"
   ]
  },
  {
   "cell_type": "code",
   "execution_count": null,
   "metadata": {},
   "outputs": [],
   "source": [
    "rows = []\n",
    "\n",
    "for _, row in tqdm(df.iterrows(), total=df.shape[0]):\n",
    "  row_data = dict(\n",
    "      day_of_week=row.date.day_of_week,\n",
    "      day_of_month=row.date.day,\n",
    "      week_of_year=row.date.week,\n",
    "      month=row.date.month,\n",
    "      open=row.open,\n",
    "      high=row.high,\n",
    "      low=row.low,\n",
    "      close_change=row.close_change,\n",
    "      close=row.close)\n",
    "  rows.append(row_data)\n",
    "\n",
    "features_df = pd.DataFrame(rows)"
   ]
  },
  {
   "cell_type": "code",
   "execution_count": null,
   "metadata": {},
   "outputs": [],
   "source": [
    "train_size = int(len(features_df)*0.9)\n",
    "\n",
    "train_df, test_df = features_df[:train_size], features_df[train_size:]\n",
    "print((len(train_df), len(test_df), len(features_df)))"
   ]
  },
  {
   "cell_type": "code",
   "execution_count": null,
   "metadata": {},
   "outputs": [],
   "source": [
    "scaler = MinMaxScaler(feature_range=(-1, 1))\n",
    "scaler = scaler.fit(features_df)"
   ]
  },
  {
   "cell_type": "code",
   "execution_count": null,
   "metadata": {},
   "outputs": [],
   "source": [
    "train_df = pd.DataFrame(\n",
    "    scaler.transform(train_df),\n",
    "    index=train_df.index,\n",
    "    columns=train_df.columns)\n",
    "\n",
    "test_df = pd.DataFrame(\n",
    "    scaler.transform(test_df),\n",
    "    index=test_df.index,\n",
    "    columns=test_df.columns)"
   ]
  },
  {
   "cell_type": "code",
   "execution_count": null,
   "metadata": {},
   "outputs": [],
   "source": [
    "def create_sequences(input_data: pd.DataFrame, target_column, sequence_length):\n",
    "  sequences = []\n",
    "  data_size = len(input_data)\n",
    "\n",
    "  for i in tqdm(range(data_size - sequence_length)):\n",
    "    sequence = input_data[i:i+sequence_length]\n",
    "\n",
    "    label_position = i + sequence_length\n",
    "    label = input_data.iloc[label_position][target_column]\n",
    "\n",
    "    sequences.append((sequence, label))\n",
    "  return sequences"
   ]
  },
  {
   "cell_type": "code",
   "execution_count": null,
   "metadata": {},
   "outputs": [],
   "source": [
    "SEQUENCE_LENGTH = 120\n",
    "\n",
    "train_sequences = create_sequences(train_df, 'close', SEQUENCE_LENGTH)\n",
    "test_sequences = create_sequences(test_df, 'close', SEQUENCE_LENGTH)"
   ]
  },
  {
   "cell_type": "code",
   "execution_count": null,
   "metadata": {},
   "outputs": [],
   "source": [
    "class BTCDataset:\n",
    "\n",
    "  def __init__(self, sequences):\n",
    "    self.sequences = sequences\n",
    "\n",
    "  def __len__(self):\n",
    "    return len(self.sequences)\n",
    "\n",
    "  def __getitem__(self, idx):\n",
    "    sequence, label = self.sequences[idx]\n",
    "\n",
    "    return dict(\n",
    "        sequence=torch.Tensor(sequence.to_numpy()),\n",
    "        label=torch.tensor(label).float()\n",
    "    )"
   ]
  },
  {
   "cell_type": "code",
   "execution_count": null,
   "metadata": {},
   "outputs": [],
   "source": [
    "class BTCPriceDataModule(pl.LightningDataModule):\n",
    "  def __init__(self, train_sequences, test_sequences, batch_size=8):\n",
    "    super().__init__()\n",
    "    self.train_sequences = train_sequences\n",
    "    self.test_sequences = test_sequences\n",
    "    self.batch_size = batch_size\n",
    "\n",
    "  def setup(self, stage=None):\n",
    "    self.train_dataset = BTCDataset(self.train_sequences)\n",
    "    self.test_dataset = BTCDataset(self.test_sequences)\n",
    "\n",
    "  def train_dataloader(self):\n",
    "    return DataLoader(\n",
    "        self.train_dataset,\n",
    "        batch_size=self.batch_size,\n",
    "        shuffle=False,\n",
    "        num_workers=2)\n",
    "\n",
    "  def val_dataloader(self):\n",
    "    return DataLoader(\n",
    "        self.test_dataset,\n",
    "        batch_size=1,\n",
    "        shuffle=False,\n",
    "        num_workers=1)\n",
    "\n",
    "  def test_dataloader(self):\n",
    "    return DataLoader(\n",
    "        self.test_dataset,\n",
    "        batch_size=1,\n",
    "        shuffle=False,\n",
    "        num_workers=1)"
   ]
  },
  {
   "cell_type": "code",
   "execution_count": null,
   "metadata": {},
   "outputs": [],
   "source": [
    "N_EPOCHS = 8\n",
    "BATCH_SIZE = 64\n",
    "\n",
    "data_module = BTCPriceDataModule(train_sequences, test_sequences, batch_size=BATCH_SIZE)\n",
    "data_module.setup()"
   ]
  },
  {
   "cell_type": "code",
   "execution_count": null,
   "metadata": {},
   "outputs": [],
   "source": [
    "train_dataset = BTCDataset(train_sequences)"
   ]
  },
  {
   "cell_type": "code",
   "execution_count": null,
   "metadata": {},
   "outputs": [],
   "source": [
    "class PricePredictModel(nn.Module):\n",
    "  def __init__(self, n_features, n_hidden=128, n_layers=2):\n",
    "    super().__init__()\n",
    "    self.n_hidden = n_hidden\n",
    "    self.lstm = nn.LSTM(\n",
    "        input_size = n_features,\n",
    "        hidden_size = n_hidden,\n",
    "        batch_first = True,\n",
    "        num_layers = n_layers,\n",
    "        dropout=0.2)\n",
    "    self.regressor = nn.Linear(n_hidden, 1)\n",
    "\n",
    "  def forward(self, x):\n",
    "    self.lstm.flatten_parameters()\n",
    "    _, (hidden, _) = self.lstm(x)\n",
    "    out = hidden[-1]\n",
    "    return self.regressor(out)"
   ]
  },
  {
   "cell_type": "code",
   "execution_count": null,
   "metadata": {},
   "outputs": [],
   "source": [
    "class BTCPricePredictor(pl.LightningModule):\n",
    "  def __init__(self, n_features: int):\n",
    "    super().__init__()\n",
    "    self.model = PricePredictModel(n_features)\n",
    "    self.criterion = nn.MSELoss()\n",
    "\n",
    "  def forward(self, x, labels=None):\n",
    "    output = self.model(x)\n",
    "    loss = 0\n",
    "    if labels is not None:\n",
    "      loss = self.criterion(output, labels.unsqueeze(dim=1))\n",
    "    return loss, output\n",
    "\n",
    "  def training_step(self, batch, batch_idx):\n",
    "    sequences = batch['sequence']\n",
    "    labels = batch['label']\n",
    "\n",
    "    loss, output = self(sequences, labels)\n",
    "    self.log('train_loss', loss, prog_bar=True, logger=True)\n",
    "    return loss\n",
    "\n",
    "  def validation_step(self, batch, batch_idx):\n",
    "    sequences = batch['sequence']\n",
    "    labels = batch['label']\n",
    "\n",
    "    loss, output = self(sequences, labels)\n",
    "    self.log('val_loss', loss, prog_bar=True, logger=True)\n",
    "    return loss\n",
    "\n",
    "  def test_step(self, batch, batch_idx):\n",
    "    sequences = batch['sequence']\n",
    "    labels = batch['label']\n",
    "\n",
    "    loss, output = self(sequences, labels)\n",
    "    self.log('test_loss', loss, prog_bar=True, logger=True)\n",
    "    return loss\n",
    "\n",
    "  def configure_optimizers(self):\n",
    "    return optim.AdamW(self.parameters(), lr=0.0001)"
   ]
  },
  {
   "cell_type": "code",
   "execution_count": null,
   "metadata": {},
   "outputs": [],
   "source": [
    "model = BTCPricePredictor(n_features=train_df.shape[1])"
   ]
  },
  {
   "cell_type": "code",
   "execution_count": null,
   "metadata": {},
   "outputs": [],
   "source": [
    "#from lightning_fabric.loggers import TensorBoardLogger\n",
    "checkpoint_callback = ModelCheckpoint(\n",
    "    dirpath = 'checkpoints',\n",
    "    filename = 'best-checkpoint',\n",
    "    save_top_k = 1,\n",
    "    verbose=True,\n",
    "    monitor = 'val_loss',\n",
    "    mode = 'min'\n",
    ")\n",
    "\n",
    "logger = TensorBoardLogger('lightning_logs', name='btc-price')\n",
    "\n",
    "early_stopping_callback = EarlyStopping(monitor='val_loss', patience=2)\n",
    "\n",
    "trainer = pl.Trainer(\n",
    "    logger = logger,\n",
    "    callbacks=[checkpoint_callback, early_stopping_callback],\n",
    "    max_epochs = N_EPOCHS,\n",
    "    #gpus=1,\n",
    "    accelerator=\"auto\"\n",
    "    #progress_bar_refresh_rate=30\n",
    ")"
   ]
  },
  {
   "cell_type": "code",
   "execution_count": null,
   "metadata": {},
   "outputs": [],
   "source": [
    "trainer.fit(model, data_module)"
   ]
  }
 ],
 "metadata": {
  "kernelspec": {
   "display_name": "tabpfn",
   "language": "python",
   "name": "python3"
  },
  "language_info": {
   "codemirror_mode": {
    "name": "ipython",
    "version": 3
   },
   "file_extension": ".py",
   "mimetype": "text/x-python",
   "name": "python",
   "nbconvert_exporter": "python",
   "pygments_lexer": "ipython3",
   "version": "3.9.16"
  },
  "orig_nbformat": 4
 },
 "nbformat": 4,
 "nbformat_minor": 2
}
