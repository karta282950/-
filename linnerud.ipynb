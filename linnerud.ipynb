{
 "cells": [
  {
   "cell_type": "code",
   "execution_count": 1,
   "metadata": {},
   "outputs": [
    {
     "name": "stdout",
     "output_type": "stream",
     "text": [
      "Collecting tabpfn\n",
      "  Downloading tabpfn-0.1.9-py3-none-any.whl (156 kB)\n",
      "\u001b[K     |████████████████████████████████| 156 kB 454 kB/s eta 0:00:01\n",
      "\u001b[?25hRequirement already satisfied: numpy>=1.21.2 in /Users/yukaisun/opt/anaconda3/lib/python3.8/site-packages (from tabpfn) (1.24.1)\n",
      "Collecting torch>=1.9.0\n",
      "  Downloading torch-2.0.1-cp38-none-macosx_10_9_x86_64.whl (143.1 MB)\n",
      "\u001b[K     |████████████████████████████████| 143.1 MB 59 kB/s  eta 0:00:01   |▎                               | 1.1 MB 991 kB/s eta 0:02:24     |▍                               | 1.9 MB 991 kB/s eta 0:02:23     |█▋                              | 7.4 MB 1.2 MB/s eta 0:01:53     |██                              | 9.0 MB 272 kB/s eta 0:08:14     |██                              | 9.3 MB 272 kB/s eta 0:08:12     |██▌                             | 11.0 MB 1.4 MB/s eta 0:01:36     |███                             | 13.8 MB 1.5 MB/s eta 0:01:29     |███▎                            | 14.8 MB 1.8 MB/s eta 0:01:12kB/s eta 0:11:53kB/s eta 0:11:49     |█████▌                          | 24.6 MB 3.4 MB/s eta 0:00:35     |██████                          | 27.2 MB 1.3 MB/s eta 0:01:28     |██████▉                         | 30.5 MB 1.0 MB/s eta 0:01:49     |███████▊                        | 34.5 MB 1.9 MB/s eta 0:00:59     |██████████                      | 44.5 MB 1.1 MB/s eta 0:01:32     |███████████                     | 48.8 MB 1.3 MB/s eta 0:01:13     |███████████▊                    | 52.6 MB 1.2 MB/s eta 0:01:15     |█████████████                   | 58.1 MB 1.3 MB/s eta 0:01:08     |██████████████▏                 | 63.3 MB 983 kB/s eta 0:01:22     |██████████████▊                 | 65.8 MB 287 kB/s eta 0:04:29     |███████████████▌                | 69.2 MB 1.1 MB/s eta 0:01:06     |██████████████████▏             | 81.4 MB 2.1 MB/s eta 0:00:31     |████████████████████            | 89.3 MB 1.5 MB/s eta 0:00:37     |█████████████████████           | 93.9 MB 915 kB/s eta 0:00:54     |██████████████████████▌         | 100.4 MB 2.0 MB/s eta 0:00:22     |██████████████████████████▏     | 117.2 MB 1.1 MB/s eta 0:00:24     |███████████████████████████     | 120.3 MB 1.3 MB/s eta 0:00:18     |████████████████████████████▉   | 129.2 MB 1.8 MB/s eta 0:00:08     |█████████████████████████████▊  | 132.7 MB 1.0 MB/s eta 0:00:11\n",
      "\u001b[?25hRequirement already satisfied: scikit-learn>=0.24.2 in /Users/yukaisun/opt/anaconda3/lib/python3.8/site-packages (from tabpfn) (1.2.0)\n",
      "Requirement already satisfied: requests>=2.23.0 in /Users/yukaisun/opt/anaconda3/lib/python3.8/site-packages (from tabpfn) (2.24.0)\n",
      "Collecting pyyaml>=5.4.1\n",
      "  Downloading PyYAML-6.0-cp38-cp38-macosx_10_9_x86_64.whl (192 kB)\n",
      "\u001b[K     |████████████████████████████████| 192 kB 1.8 MB/s eta 0:00:01\n",
      "\u001b[?25hRequirement already satisfied: sympy in /Users/yukaisun/opt/anaconda3/lib/python3.8/site-packages (from torch>=1.9.0->tabpfn) (1.6.2)\n",
      "Requirement already satisfied: networkx in /Users/yukaisun/opt/anaconda3/lib/python3.8/site-packages (from torch>=1.9.0->tabpfn) (2.5)\n",
      "Requirement already satisfied: typing-extensions in /Users/yukaisun/opt/anaconda3/lib/python3.8/site-packages (from torch>=1.9.0->tabpfn) (3.7.4.3)\n",
      "Requirement already satisfied: filelock in /Users/yukaisun/opt/anaconda3/lib/python3.8/site-packages (from torch>=1.9.0->tabpfn) (3.0.12)\n",
      "Requirement already satisfied: jinja2 in /Users/yukaisun/opt/anaconda3/lib/python3.8/site-packages (from torch>=1.9.0->tabpfn) (2.11.2)\n",
      "Requirement already satisfied: scipy>=1.3.2 in /Users/yukaisun/opt/anaconda3/lib/python3.8/site-packages (from scikit-learn>=0.24.2->tabpfn) (1.5.2)\n",
      "Requirement already satisfied: threadpoolctl>=2.0.0 in /Users/yukaisun/opt/anaconda3/lib/python3.8/site-packages (from scikit-learn>=0.24.2->tabpfn) (2.1.0)\n",
      "Requirement already satisfied: joblib>=1.1.1 in /Users/yukaisun/opt/anaconda3/lib/python3.8/site-packages (from scikit-learn>=0.24.2->tabpfn) (1.2.0)\n",
      "Collecting urllib3!=1.25.0,!=1.25.1,<1.26,>=1.21.1\n",
      "  Downloading urllib3-1.25.11-py2.py3-none-any.whl (127 kB)\n",
      "\u001b[K     |████████████████████████████████| 127 kB 1.8 MB/s eta 0:00:01\n",
      "\u001b[?25hRequirement already satisfied: chardet<4,>=3.0.2 in /Users/yukaisun/opt/anaconda3/lib/python3.8/site-packages (from requests>=2.23.0->tabpfn) (3.0.4)\n",
      "Requirement already satisfied: certifi>=2017.4.17 in /Users/yukaisun/opt/anaconda3/lib/python3.8/site-packages (from requests>=2.23.0->tabpfn) (2022.12.7)\n",
      "Requirement already satisfied: idna<3,>=2.5 in /Users/yukaisun/opt/anaconda3/lib/python3.8/site-packages (from requests>=2.23.0->tabpfn) (2.10)\n",
      "Requirement already satisfied: mpmath>=0.19 in /Users/yukaisun/opt/anaconda3/lib/python3.8/site-packages (from sympy->torch>=1.9.0->tabpfn) (1.1.0)\n",
      "Requirement already satisfied: decorator>=4.3.0 in /Users/yukaisun/opt/anaconda3/lib/python3.8/site-packages (from networkx->torch>=1.9.0->tabpfn) (4.4.2)\n",
      "Requirement already satisfied: MarkupSafe>=0.23 in /Users/yukaisun/opt/anaconda3/lib/python3.8/site-packages (from jinja2->torch>=1.9.0->tabpfn) (1.1.1)\n",
      "Installing collected packages: torch, pyyaml, tabpfn, urllib3\n",
      "  Attempting uninstall: torch\n",
      "    Found existing installation: torch 1.7.1\n",
      "    Uninstalling torch-1.7.1:\n",
      "      Successfully uninstalled torch-1.7.1\n",
      "  Attempting uninstall: pyyaml\n",
      "    Found existing installation: PyYAML 5.3.1\n",
      "\u001b[31mERROR: Cannot uninstall 'PyYAML'. It is a distutils installed project and thus we cannot accurately determine which files belong to it which would lead to only a partial uninstall.\u001b[0m\n"
     ]
    }
   ],
   "source": [
    "!pip install tabpfn"
   ]
  },
  {
   "cell_type": "code",
   "execution_count": null,
   "metadata": {},
   "outputs": [],
   "source": []
  }
 ],
 "metadata": {
  "kernelspec": {
   "display_name": "base",
   "language": "python",
   "name": "python3"
  },
  "language_info": {
   "codemirror_mode": {
    "name": "ipython",
    "version": 3
   },
   "file_extension": ".py",
   "mimetype": "text/x-python",
   "name": "python",
   "nbconvert_exporter": "python",
   "pygments_lexer": "ipython3",
   "version": "3.8.5"
  },
  "orig_nbformat": 4
 },
 "nbformat": 4,
 "nbformat_minor": 2
}
