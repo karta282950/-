{
 "cells": [
  {
   "cell_type": "code",
   "execution_count": null,
   "id": "79b62534-e656-438b-ac77-3a100ec9e15b",
   "metadata": {},
   "outputs": [],
   "source": [
    "# pivot\n",
    "def api_pivot_count_features(df):\n",
    "    tmp = df.groupby(['file_id','api'])['tid'].count().to_frame('api_tid_count').reset_index()\n",
    "    tmp_pivot = pd.pivot_table(data=tmp,index = 'file_id',columns='api',values='api_tid_count',fill_value=0)\n",
    "    tmp_pivot.columns = [tmp_pivot.columns.names[0] + '_pivot_'+ str(col) for col in tmp_pivot.columns]\n",
    "    tmp_pivot.reset_index(inplace = True)\n",
    "    tmp_pivot = memory_process._memory_process(tmp_pivot)\n",
    "    return tmp_pivot "
   ]
  },
  {
   "cell_type": "code",
   "execution_count": 12,
   "id": "7e092289",
   "metadata": {},
   "outputs": [],
   "source": [
    "# 标准化\n",
    "# 将特征转换为标准正态分布，并和整体样本分布有关\n",
    "from sklearn.preprocessing import StandardScaler\n",
    "from sklearn.datasets import load_iris\n",
    "iris = load_iris()\n",
    "#标准化，返回值为标准化后的数据\n",
    "std_iris = StandardScaler().fit_transform(iris.data)"
   ]
  },
  {
   "cell_type": "code",
   "execution_count": 13,
   "id": "4158ba2a",
   "metadata": {},
   "outputs": [],
   "source": [
    "# 归一化\n",
    "# 归一化是将样本的特征值转换到同一量纲下，把数据映射到[0,1]或[a,b]区间内，仅由变量极值决定\n",
    "from sklearn.preprocessing import Normalizer\n",
    "#归一化，返回值为归一化后的数据\n",
    "nor_iris = Normalizer().fit_transform(iris.data)"
   ]
  },
  {
   "cell_type": "code",
   "execution_count": null,
   "id": "f6f17d6e",
   "metadata": {},
   "outputs": [],
   "source": [
    "s, e = datetime(2019, 1, 15), datetime(2019, 10, 15)\n",
    "hsd = load_hierarchical_sine_data(start=s, end=e, n=10000)\n",
    "hier = {'total': ['a', 'b', 'c'],\n",
    "            'a': ['a_x', 'a_y'],\n",
    "            'b': ['b_x', 'b_y'],\n",
    "            'c': ['c_x', 'c_y'],\n",
    "            'a_x': ['a_x_1', 'a_x_2'],\n",
    "            'a_y': ['a_y_1', 'a_y_2'],\n",
    "            'b_x': ['b_x_1', 'b_x_2'],\n",
    "            'b_y': ['b_y_1', 'b_y_2'],\n",
    "            'c_x': ['c_x_1', 'c_x_2'],\n",
    "            'c_y': ['c_y_1', 'c_y_2']\n",
    "        }"
   ]
  },
  {
   "cell_type": "code",
   "execution_count": 1,
   "id": "074b46c8",
   "metadata": {},
   "outputs": [],
   "source": [
    "l1 = ['a', 'bc']\n",
    "l2 = ['ab', 'c']"
   ]
  },
  {
   "cell_type": "code",
   "execution_count": 2,
   "id": "b9ff4278",
   "metadata": {},
   "outputs": [],
   "source": [
    "def missing_value(l1):\n",
    "\tl1.sort()\n",
    "\tans = []\n",
    "\tfor i in range(l1[0], l1[-1]):\n",
    "\t\tif i != l1[0]:\n",
    "\t\t\tans.append(i)\n",
    "\t\t\tl1.pop(0)\n",
    "\treturn ans"
   ]
  },
  {
   "cell_type": "code",
   "execution_count": 3,
   "id": "b3832d8b",
   "metadata": {},
   "outputs": [
    {
     "data": {
      "text/plain": [
       "[2, 4, 6, 8]"
      ]
     },
     "execution_count": 3,
     "metadata": {},
     "output_type": "execute_result"
    }
   ],
   "source": [
    "missing_value(l1 = [1, 3, 5, 7, 9])"
   ]
  },
  {
   "cell_type": "code",
   "execution_count": null,
   "id": "e657e5e2",
   "metadata": {},
   "outputs": [],
   "source": []
  }
 ],
 "metadata": {
  "kernelspec": {
   "display_name": "Python 3 (ipykernel)",
   "language": "python",
   "name": "python3"
  },
  "language_info": {
   "codemirror_mode": {
    "name": "ipython",
    "version": 3
   },
   "file_extension": ".py",
   "mimetype": "text/x-python",
   "name": "python",
   "nbconvert_exporter": "python",
   "pygments_lexer": "ipython3",
   "version": "3.8.5"
  }
 },
 "nbformat": 4,
 "nbformat_minor": 5
}
