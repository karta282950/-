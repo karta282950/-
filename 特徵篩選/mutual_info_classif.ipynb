{
 "cells": [
  {
   "cell_type": "code",
   "execution_count": 1,
   "metadata": {},
   "outputs": [],
   "source": [
    "from sklearn.datasets import load_breast_cancer\n",
    "from sklearn.feature_selection import mutual_info_classif\n",
    "from sklearn.utils.parallel import Parallel, delayed\n",
    "from sklearn.preprocessing import OrdinalEncoder\n",
    "import numpy as np\n",
    "import pandas as pd"
   ]
  },
  {
   "cell_type": "code",
   "execution_count": 2,
   "metadata": {},
   "outputs": [],
   "source": [
    "breast = load_breast_cancer()\n",
    "data = pd.DataFrame(data=breast.data, columns=breast.feature_names)\n",
    "data['target'] = breast.target"
   ]
  },
  {
   "cell_type": "code",
   "execution_count": 4,
   "metadata": {},
   "outputs": [
    {
     "name": "stdout",
     "output_type": "stream",
     "text": [
      "*** U(y|x) in % (Original data) ***\n"
     ]
    },
    {
     "name": "stdout",
     "output_type": "stream",
     "text": [
      "mean radius: 55.32 ± 0.32\n",
      "mean texture: 14.29 ± 0.27\n",
      "mean perimeter: 61.04 ± 0.17\n",
      "mean area: 54.46 ± 0.33\n",
      "mean smoothness: 12.04 ± 0.49\n",
      "mean compactness: 32.29 ± 0.19\n",
      "mean concavity: 56.44 ± 0.04\n",
      "mean concave points: 66.62 ± 0.17\n",
      "mean symmetry: 9.92 ± 0.56\n",
      "mean fractal dimension: 1.02 ± 0.18\n",
      "radius error: 37.54 ± 0.23\n",
      "texture error: 0.17 ± 0.09\n",
      "perimeter error: 41.64 ± 0.31\n",
      "area error: 51.45 ± 0.12\n",
      "smoothness error: 2.32 ± 0.16\n",
      "compactness error: 11.35 ± 0.23\n",
      "concavity error: 17.78 ± 0.14\n",
      "concave points error: 19.36 ± 0.16\n",
      "symmetry error: 1.89 ± 0.32\n",
      "fractal dimension error: 5.91 ± 0.18\n",
      "worst radius: 68.68 ± 0.14\n",
      "worst texture: 18.07 ± 0.18\n",
      "worst perimeter: 71.92 ± 0.06\n",
      "worst area: 70.20 ± 0.09\n",
      "worst smoothness: 14.93 ± 0.59\n",
      "worst compactness: 34.05 ± 0.12\n",
      "worst concavity: 47.82 ± 0.07\n",
      "worst concave points: 66.14 ± 0.20\n",
      "worst symmetry: 14.41 ± 0.34\n",
      "worst fractal dimension: 10.16 ± 0.34\n"
     ]
    }
   ],
   "source": [
    "def mi(x,y,n_iter=5):\n",
    "    X = np.array(x).reshape((-1,1))\n",
    "    y = np.array(y)\n",
    "    if X.dtype == 'object':\n",
    "        X = OrdinalEncoder().fit_transform(X)\n",
    "    scores = Parallel(n_jobs=-1)(delayed(mutual_info_classif)(X,y,random_state=42+i) for i in range(n_iter))\n",
    "    return np.array([np.mean(scores), np.std(scores)])\n",
    "\n",
    "def theil_u(train,target,comment=''):\n",
    "    print(F'*** U(y|x) in % {comment} ***')\n",
    "    e = mi(train[target],train[target])[0]\n",
    "    for c in train.columns:\n",
    "        if c != target:\n",
    "            mu, sigma = mi(train[c],train[target])/e*100\n",
    "            print(F\"{c}: {mu:.2f} ± {sigma:.2f}\")\n",
    "\n",
    "theil_u(data,target='target',comment='(Original data)')"
   ]
  },
  {
   "cell_type": "code",
   "execution_count": null,
   "metadata": {},
   "outputs": [],
   "source": []
  }
 ],
 "metadata": {
  "kernelspec": {
   "display_name": "base",
   "language": "python",
   "name": "python3"
  },
  "language_info": {
   "codemirror_mode": {
    "name": "ipython",
    "version": 3
   },
   "file_extension": ".py",
   "mimetype": "text/x-python",
   "name": "python",
   "nbconvert_exporter": "python",
   "pygments_lexer": "ipython3",
   "version": "3.8.17"
  }
 },
 "nbformat": 4,
 "nbformat_minor": 2
}
