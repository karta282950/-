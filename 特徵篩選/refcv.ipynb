{
 "cells": [
  {
   "cell_type": "code",
   "execution_count": null,
   "id": "54aee87c",
   "metadata": {
    "_cell_guid": "b1076dfc-b9ad-4769-8c92-a6c4dae69d19",
    "_uuid": "8f2839f25d086af736a60e9eeb907d3b93b6e0e5",
    "execution": {
     "iopub.execute_input": "2023-10-01T08:19:33.375737Z",
     "iopub.status.busy": "2023-10-01T08:19:33.375407Z",
     "iopub.status.idle": "2023-10-01T08:21:00.832831Z",
     "shell.execute_reply": "2023-10-01T08:21:00.831756Z",
     "shell.execute_reply.started": "2023-10-01T08:19:33.375712Z"
    },
    "papermill": {
     "duration": null,
     "end_time": null,
     "exception": false,
     "start_time": "2023-10-02T05:20:47.772166",
     "status": "running"
    },
    "tags": []
   },
   "outputs": [],
   "source": [
    "import sklearn\n",
    "import numpy as np\n",
    "import os\n",
    "import datetime\n",
    "import pandas as pd\n",
    "import matplotlib.pyplot as plt\n",
    "import missingno as msno\n",
    "from prettytable import PrettyTable\n",
    "%matplotlib inline\n",
    "import seaborn as sns\n",
    "sns.set(style='darkgrid', font_scale=1.4)\n",
    "from tqdm import tqdm\n",
    "from tqdm.notebook import tqdm as tqdm_notebook\n",
    "tqdm_notebook.get_lock().locks = []\n",
    "# !pip install sweetviz\n",
    "# import sweetviz as sv\n",
    "import concurrent.futures\n",
    "from copy import deepcopy       \n",
    "from functools import partial\n",
    "from itertools import combinations\n",
    "import random\n",
    "from random import randint, uniform\n",
    "import gc\n",
    "from sklearn.feature_selection import f_classif\n",
    "from sklearn.preprocessing import LabelEncoder, StandardScaler, MinMaxScaler,PowerTransformer, FunctionTransformer\n",
    "from sklearn import metrics\n",
    "from sklearn.model_selection import GridSearchCV\n",
    "from sklearn.model_selection import RandomizedSearchCV\n",
    "from itertools import combinations\n",
    "from sklearn.impute import SimpleImputer\n",
    "import xgboost as xg\n",
    "from sklearn.model_selection import train_test_split,cross_val_score\n",
    "from sklearn.metrics import mean_squared_error,mean_squared_log_error, roc_auc_score, accuracy_score, f1_score, precision_recall_curve, log_loss\n",
    "from sklearn.cluster import KMeans\n",
    "!pip install -q yellowbrick\n",
    "from yellowbrick.cluster import KElbowVisualizer\n",
    "!pip install -q gap-stat\n",
    "from gap_statistic.optimalK import OptimalK\n",
    "from scipy import stats\n",
    "import statsmodels.api as sm\n",
    "from scipy.stats import ttest_ind\n",
    "from scipy.stats import boxcox\n",
    "import math\n",
    "from statsmodels.stats.outliers_influence import variance_inflation_factor\n",
    "from sklearn.base import BaseEstimator, TransformerMixin\n",
    "!pip install -q optuna\n",
    "import optuna\n",
    "import xgboost as xgb\n",
    "!pip install -q catboost\n",
    "!pip install -q lightgbm --install-option=--gpu --install-option=\"--boost-root=C:/local/boost_1_69_0\" --install-option=\"--boost-librarydir=C:/local/boost_1_69_0/lib64-msvc-14.1\"\n",
    "import lightgbm as lgb\n",
    "!pip install -q tabpfn\n",
    "\n",
    "from tabpfn import TabPFNClassifier\n",
    "!pip install category_encoders\n",
    "from category_encoders import OneHotEncoder, OrdinalEncoder, CountEncoder, CatBoostEncoder\n",
    "from imblearn.under_sampling import RandomUnderSampler\n",
    "from sklearn.model_selection import StratifiedKFold, KFold\n",
    "from sklearn.ensemble import RandomForestClassifier, HistGradientBoostingClassifier, GradientBoostingClassifier,ExtraTreesClassifier, AdaBoostClassifier\n",
    "!pip install -q -U imbalanced-learn\n",
    "from imblearn.ensemble import BalancedRandomForestClassifier\n",
    "from sklearn.datasets import make_classification\n",
    "from sklearn.naive_bayes import GaussianNB\n",
    "from sklearn.experimental import enable_hist_gradient_boosting\n",
    "from sklearn.tree import DecisionTreeClassifier\n",
    "from sklearn.linear_model import LogisticRegression\n",
    "from catboost import CatBoost, CatBoostRegressor, CatBoostClassifier\n",
    "from sklearn.svm import NuSVC, SVC\n",
    "from sklearn.neighbors import KNeighborsClassifier\n",
    "from sklearn.impute import KNNImputer\n",
    "from sklearn.linear_model import LogisticRegression\n",
    "from sklearn.neural_network import MLPClassifier\n",
    "from catboost import Pool\n",
    "import re\n",
    "from sklearn.feature_extraction.text import TfidfVectorizer\n",
    "from sklearn.decomposition import PCA\n",
    "from sklearn.decomposition import TruncatedSVD\n",
    "\n",
    "# Suppress warnings\n",
    "import warnings\n",
    "warnings.filterwarnings(\"ignore\")\n",
    "pd.pandas.set_option('display.max_columns', None)"
   ]
  },
  {
   "cell_type": "code",
   "execution_count": null,
   "id": "b4bc5217",
   "metadata": {
    "execution": {
     "iopub.execute_input": "2023-10-01T08:21:00.834970Z",
     "iopub.status.busy": "2023-10-01T08:21:00.834190Z",
     "iopub.status.idle": "2023-10-01T08:21:00.965356Z",
     "shell.execute_reply": "2023-10-01T08:21:00.963924Z",
     "shell.execute_reply.started": "2023-10-01T08:21:00.834945Z"
    },
    "papermill": {
     "duration": null,
     "end_time": null,
     "exception": null,
     "start_time": null,
     "status": "pending"
    },
    "tags": []
   },
   "outputs": [],
   "source": [
    "train = pd.read_csv(\"/kaggle/input/advanced-feature-engg-techniques-beyond-basics/train_cleaned.csv\")\n",
    "test = pd.read_csv(\"/kaggle/input/advanced-feature-engg-techniques-beyond-basics/test_cleaned.csv\")"
   ]
  },
  {
   "cell_type": "code",
   "execution_count": null,
   "id": "cdcad178",
   "metadata": {
    "execution": {
     "iopub.execute_input": "2023-10-01T08:21:00.966790Z",
     "iopub.status.busy": "2023-10-01T08:21:00.966526Z",
     "iopub.status.idle": "2023-10-01T08:21:01.004939Z",
     "shell.execute_reply": "2023-10-01T08:21:01.003951Z",
     "shell.execute_reply.started": "2023-10-01T08:21:00.966768Z"
    },
    "papermill": {
     "duration": null,
     "end_time": null,
     "exception": null,
     "start_time": null,
     "status": "pending"
    },
    "tags": []
   },
   "outputs": [],
   "source": [
    "train[train.select_dtypes('boolean').columns] = train.select_dtypes('boolean').astype(np.float64)\n",
    "train[train.select_dtypes('int64').columns] = train.select_dtypes('int64').astype(np.float64)"
   ]
  },
  {
   "cell_type": "code",
   "execution_count": null,
   "id": "b90981a7",
   "metadata": {
    "execution": {
     "iopub.execute_input": "2023-10-01T08:21:01.007710Z",
     "iopub.status.busy": "2023-10-01T08:21:01.006920Z",
     "iopub.status.idle": "2023-10-01T08:21:01.017499Z",
     "shell.execute_reply": "2023-10-01T08:21:01.016565Z",
     "shell.execute_reply.started": "2023-10-01T08:21:01.007681Z"
    },
    "papermill": {
     "duration": null,
     "end_time": null,
     "exception": null,
     "start_time": null,
     "status": "pending"
    },
    "tags": []
   },
   "outputs": [],
   "source": [
    "train.outcome = train.outcome.map({'died':0,'euthanized':1,'lived':2})"
   ]
  },
  {
   "cell_type": "code",
   "execution_count": null,
   "id": "cf3b1b95",
   "metadata": {
    "execution": {
     "iopub.execute_input": "2023-10-01T08:21:01.019540Z",
     "iopub.status.busy": "2023-10-01T08:21:01.018627Z",
     "iopub.status.idle": "2023-10-01T08:21:01.044044Z",
     "shell.execute_reply": "2023-10-01T08:21:01.042625Z",
     "shell.execute_reply.started": "2023-10-01T08:21:01.019505Z"
    },
    "papermill": {
     "duration": null,
     "end_time": null,
     "exception": null,
     "start_time": null,
     "status": "pending"
    },
    "tags": []
   },
   "outputs": [],
   "source": [
    "train[['outcome']].head(3)"
   ]
  },
  {
   "cell_type": "code",
   "execution_count": null,
   "id": "d0f2ab60",
   "metadata": {
    "execution": {
     "iopub.execute_input": "2023-10-01T08:21:01.045556Z",
     "iopub.status.busy": "2023-10-01T08:21:01.045126Z",
     "iopub.status.idle": "2023-10-01T08:21:01.056751Z",
     "shell.execute_reply": "2023-10-01T08:21:01.055937Z",
     "shell.execute_reply.started": "2023-10-01T08:21:01.045526Z"
    },
    "papermill": {
     "duration": null,
     "end_time": null,
     "exception": null,
     "start_time": null,
     "status": "pending"
    },
    "tags": []
   },
   "outputs": [],
   "source": [
    "def calc_log_loss_weight(y_true):\n",
    "    nc = np.bincount(y_true)\n",
    "    w0, w1, w2 = 1/(nc[0]/y_true.shape[0]), 1/(nc[1]/y_true.shape[0]), 1/(nc[2]/y_true.shape[0])\n",
    "    return w0, w1, w2\n",
    "\n",
    "w = calc_log_loss_weight(train.outcome)\n",
    "\n",
    "lgb_params = {'n_estimators': 100,\n",
    "            'max_depth': 8,\n",
    "            'learning_rate': 0.02,\n",
    "            'subsample': 0.20,\n",
    "            'colsample_bytree': 0.56,\n",
    "            'reg_alpha': 0.25,\n",
    "            'reg_lambda': 5e-08,\n",
    "            'objective': 'multiclass',\n",
    "            'metric': 'multi_logloss',\n",
    "            'boosting_type': 'gbdt',\n",
    "            'device': 'cpu',\n",
    "            'random_state': 42,\n",
    "            'num_class': 3,\n",
    "            'verbose': -1,\n",
    "            'n_jobs': -1,\n",
    "             }\n",
    "\n",
    "lgbm_baseline = lgb.LGBMClassifier(**lgb_params)\n",
    "\n",
    "f1_results = pd.DataFrame(columns=['Selected_Features', 'F1'])\n",
    "\n",
    "def evaluation(df, target, select_features, note):\n",
    "    global f1_results\n",
    "    \n",
    "    X = df[select_features]\n",
    "    Y = df[target]\n",
    "    \n",
    "    kf = KFold(n_splits=5, shuffle=True, random_state=42)\n",
    "    f1_scores = []\n",
    "    \n",
    "    for train_idx, test_idx in kf.split(X):\n",
    "        X_train, X_test = X.iloc[train_idx], X.iloc[test_idx]\n",
    "        y_train, y_test = Y.iloc[train_idx], Y.iloc[test_idx]\n",
    "        lgbm_baseline.fit(X_train, y_train)\n",
    "        y_hat = lgbm_baseline.predict(X_test) \n",
    "        f1 = f1_score(y_test, y_hat, average='micro')\n",
    "        f1_scores.append(f1)\n",
    "    \n",
    "    average_f1 = np.mean(f1_scores)\n",
    "    new_row = {'Selected_Features': note, 'F1': average_f1}\n",
    "    f1_results = pd.concat([f1_results, pd.DataFrame([new_row])], ignore_index=True)\n",
    "\n",
    "    print('====================================')\n",
    "    print(note)\n",
    "    print(\"Average F1:\", average_f1)\n",
    "    print('====================================')\n",
    "    return average_f1"
   ]
  },
  {
   "cell_type": "code",
   "execution_count": null,
   "id": "afb89c18",
   "metadata": {
    "execution": {
     "iopub.execute_input": "2023-10-01T08:21:01.058450Z",
     "iopub.status.busy": "2023-10-01T08:21:01.057806Z",
     "iopub.status.idle": "2023-10-01T08:21:16.684232Z",
     "shell.execute_reply": "2023-10-01T08:21:16.683297Z",
     "shell.execute_reply.started": "2023-10-01T08:21:01.058422Z"
    },
    "papermill": {
     "duration": null,
     "end_time": null,
     "exception": null,
     "start_time": null,
     "status": "pending"
    },
    "tags": []
   },
   "outputs": [],
   "source": [
    "evaluation(df=train, target='outcome', select_features=[t for t in train.columns if t !='outcome'], note='Baseline')"
   ]
  },
  {
   "cell_type": "markdown",
   "id": "18601b1c",
   "metadata": {
    "papermill": {
     "duration": null,
     "end_time": null,
     "exception": null,
     "start_time": null,
     "status": "pending"
    },
    "tags": []
   },
   "source": [
    "### REFCV"
   ]
  },
  {
   "cell_type": "code",
   "execution_count": null,
   "id": "8015f1c2",
   "metadata": {
    "execution": {
     "iopub.execute_input": "2023-10-01T08:21:16.685826Z",
     "iopub.status.busy": "2023-10-01T08:21:16.685362Z",
     "iopub.status.idle": "2023-10-01T08:21:16.691408Z",
     "shell.execute_reply": "2023-10-01T08:21:16.690005Z",
     "shell.execute_reply.started": "2023-10-01T08:21:16.685802Z"
    },
    "papermill": {
     "duration": null,
     "end_time": null,
     "exception": null,
     "start_time": null,
     "status": "pending"
    },
    "tags": []
   },
   "outputs": [],
   "source": [
    "from sklearn.feature_selection import RFECV\n",
    "from sklearn.model_selection import StratifiedKFold"
   ]
  },
  {
   "cell_type": "code",
   "execution_count": null,
   "id": "7ac73a12",
   "metadata": {
    "execution": {
     "iopub.execute_input": "2023-10-01T08:21:16.695366Z",
     "iopub.status.busy": "2023-10-01T08:21:16.695066Z",
     "iopub.status.idle": "2023-10-01T09:18:45.782075Z",
     "shell.execute_reply": "2023-10-01T09:18:45.781537Z",
     "shell.execute_reply.started": "2023-10-01T08:21:16.695342Z"
    },
    "papermill": {
     "duration": null,
     "end_time": null,
     "exception": null,
     "start_time": null,
     "status": "pending"
    },
    "tags": []
   },
   "outputs": [],
   "source": [
    "cv = StratifiedKFold(5)\n",
    "min_features_to_select = 1\n",
    "\n",
    "rfecv = RFECV(\n",
    "    estimator=lgbm_baseline,\n",
    "    step=1,\n",
    "    cv=cv,\n",
    "    scoring=\"f1_micro\",\n",
    "    min_features_to_select=min_features_to_select,\n",
    "    n_jobs=-1,\n",
    ")\n",
    "rfecv.fit(train.drop(['outcome'], axis=1), train['outcome'])\n",
    "\n",
    "print(f\"Optimal number of features: {rfecv.n_features_}\")\n"
   ]
  },
  {
   "cell_type": "code",
   "execution_count": null,
   "id": "15b27625",
   "metadata": {
    "execution": {
     "iopub.execute_input": "2023-10-01T09:57:19.634588Z",
     "iopub.status.busy": "2023-10-01T09:57:19.634215Z",
     "iopub.status.idle": "2023-10-01T09:57:19.653516Z",
     "shell.execute_reply": "2023-10-01T09:57:19.651762Z",
     "shell.execute_reply.started": "2023-10-01T09:57:19.634562Z"
    },
    "papermill": {
     "duration": null,
     "end_time": null,
     "exception": null,
     "start_time": null,
     "status": "pending"
    },
    "tags": []
   },
   "outputs": [],
   "source": [
    "rfecv.set_output(transform='pandas')\n",
    "\n",
    "X_RFECV = rfecv.transform(train.drop(['outcome'], axis=1))\n",
    "print(\"RFECV特征选择结果——————————————————————————————————————————————————\")\n",
    "print(\"有效特征个数 : %d\" % rfecv.n_features_)\n",
    "print(\"全部特征等级 : %s\" % list(rfecv.ranking_))"
   ]
  },
  {
   "cell_type": "code",
   "execution_count": null,
   "id": "4a432ee1",
   "metadata": {
    "execution": {
     "iopub.execute_input": "2023-10-01T09:18:45.784624Z",
     "iopub.status.busy": "2023-10-01T09:18:45.784283Z",
     "iopub.status.idle": "2023-10-01T09:18:46.114246Z",
     "shell.execute_reply": "2023-10-01T09:18:46.113361Z",
     "shell.execute_reply.started": "2023-10-01T09:18:45.784607Z"
    },
    "papermill": {
     "duration": null,
     "end_time": null,
     "exception": null,
     "start_time": null,
     "status": "pending"
    },
    "tags": []
   },
   "outputs": [],
   "source": [
    "import matplotlib.pyplot as plt\n",
    "\n",
    "n_scores = len(rfecv.cv_results_[\"mean_test_score\"])\n",
    "plt.figure()\n",
    "plt.xlabel(\"Number of features selected\")\n",
    "plt.ylabel(\"Mean test accuracy\")\n",
    "plt.errorbar(\n",
    "    range(min_features_to_select, n_scores + min_features_to_select),\n",
    "    rfecv.cv_results_[\"mean_test_score\"],\n",
    "    yerr=rfecv.cv_results_[\"std_test_score\"],\n",
    ")\n",
    "plt.title(\"Recursive Feature Elimination \\nwith correlated features\")\n",
    "plt.show()"
   ]
  },
  {
   "cell_type": "code",
   "execution_count": null,
   "id": "c3ca4a27",
   "metadata": {
    "execution": {
     "iopub.execute_input": "2023-10-01T09:18:46.115510Z",
     "iopub.status.busy": "2023-10-01T09:18:46.115245Z",
     "iopub.status.idle": "2023-10-01T09:19:01.221328Z",
     "shell.execute_reply": "2023-10-01T09:19:01.220184Z",
     "shell.execute_reply.started": "2023-10-01T09:18:46.115473Z"
    },
    "papermill": {
     "duration": null,
     "end_time": null,
     "exception": null,
     "start_time": null,
     "status": "pending"
    },
    "tags": []
   },
   "outputs": [],
   "source": [
    "evaluation(df=train, target='outcome', select_features=[t for t in train.columns if t !='outcome'], note='Baseline')"
   ]
  },
  {
   "cell_type": "code",
   "execution_count": null,
   "id": "c8415ffb",
   "metadata": {
    "execution": {
     "iopub.execute_input": "2023-10-01T09:36:49.738330Z",
     "iopub.status.busy": "2023-10-01T09:36:49.738020Z",
     "iopub.status.idle": "2023-10-01T09:36:49.748962Z",
     "shell.execute_reply": "2023-10-01T09:36:49.747691Z",
     "shell.execute_reply.started": "2023-10-01T09:36:49.738306Z"
    },
    "papermill": {
     "duration": null,
     "end_time": null,
     "exception": null,
     "start_time": null,
     "status": "pending"
    },
    "tags": []
   },
   "outputs": [],
   "source": [
    "ref_features = train.drop(['outcome'], axis=1).columns[rfecv.support_].to_list()\n",
    "ref_features"
   ]
  },
  {
   "cell_type": "code",
   "execution_count": null,
   "id": "f2e9925d",
   "metadata": {
    "execution": {
     "iopub.execute_input": "2023-10-01T09:58:44.932760Z",
     "iopub.status.busy": "2023-10-01T09:58:44.932417Z",
     "iopub.status.idle": "2023-10-01T09:58:55.918471Z",
     "shell.execute_reply": "2023-10-01T09:58:55.917548Z",
     "shell.execute_reply.started": "2023-10-01T09:58:44.932737Z"
    },
    "papermill": {
     "duration": null,
     "end_time": null,
     "exception": null,
     "start_time": null,
     "status": "pending"
    },
    "tags": []
   },
   "outputs": [],
   "source": [
    "evaluation(df=train, target='outcome', select_features=ref_features, note='REFCV')"
   ]
  },
  {
   "cell_type": "markdown",
   "id": "3b8d4a8f",
   "metadata": {
    "papermill": {
     "duration": null,
     "end_time": null,
     "exception": null,
     "start_time": null,
     "status": "pending"
    },
    "tags": []
   },
   "source": [
    "### Null importance"
   ]
  },
  {
   "cell_type": "code",
   "execution_count": null,
   "id": "1dfa3529",
   "metadata": {
    "execution": {
     "iopub.execute_input": "2023-10-01T09:39:35.578743Z",
     "iopub.status.busy": "2023-10-01T09:39:35.578409Z",
     "iopub.status.idle": "2023-10-01T09:39:35.586568Z",
     "shell.execute_reply": "2023-10-01T09:39:35.584919Z",
     "shell.execute_reply.started": "2023-10-01T09:39:35.578714Z"
    },
    "papermill": {
     "duration": null,
     "end_time": null,
     "exception": null,
     "start_time": null,
     "status": "pending"
    },
    "tags": []
   },
   "outputs": [],
   "source": [
    "def get_feature_importances(data, shuffle, seed=None):\n",
    "    # Gather real features\n",
    "    train_features = [f for f in data if f not in ['outcome']]\n",
    "    # Go over fold and keep track of CV score (train and valid) and feature importances\n",
    "    \n",
    "    # Shuffle target if required\n",
    "    y = data['outcome'].copy()\n",
    "    if shuffle:\n",
    "        # Here you could as well use a binomial distribution\n",
    "        y = data['outcome'].copy().sample(frac=1.0)\n",
    "    \n",
    "    # Fit LightGBM in RF mode, yes it's quicker than sklearn RandomForest\n",
    "    dtrain = lgb.Dataset(data[train_features], y, free_raw_data=False, silent=True)\n",
    "    # Fit the model\n",
    "    lgb_params = {'n_estimators': 100,\n",
    "            'max_depth': 8,\n",
    "            'learning_rate': 0.02,\n",
    "            'subsample': 0.20,\n",
    "            'colsample_bytree': 0.56,\n",
    "            'reg_alpha': 0.25,\n",
    "            'reg_lambda': 5e-08,\n",
    "            'objective': 'multiclass',\n",
    "            'metric': 'multi_logloss',\n",
    "            'boosting_type': 'gbdt',\n",
    "            'device': 'cpu',\n",
    "            'random_state': 42,\n",
    "            'num_class': 3,\n",
    "            'verbose': -1,\n",
    "            'n_jobs': -1,\n",
    "             }\n",
    "    clf = lgb.train(params=lgb_params, train_set=dtrain, num_boost_round=200)\n",
    "\n",
    "    # Get feature importances\n",
    "    imp_df = pd.DataFrame()\n",
    "    imp_df[\"feature\"] = list(train_features)\n",
    "    imp_df[\"importance_gain\"] = clf.feature_importance(importance_type='gain')\n",
    "    imp_df[\"importance_split\"] = clf.feature_importance(importance_type='split')\n",
    "    imp_df['trn_score'] = f1_score(y, np.argmax(clf.predict(data[train_features]), axis=1), average='micro')\n",
    "    return imp_df"
   ]
  },
  {
   "cell_type": "code",
   "execution_count": null,
   "id": "d26aa0f3",
   "metadata": {
    "execution": {
     "iopub.execute_input": "2023-10-01T09:39:36.206792Z",
     "iopub.status.busy": "2023-10-01T09:39:36.206508Z",
     "iopub.status.idle": "2023-10-01T09:39:39.590622Z",
     "shell.execute_reply": "2023-10-01T09:39:39.589455Z",
     "shell.execute_reply.started": "2023-10-01T09:39:36.206772Z"
    },
    "papermill": {
     "duration": null,
     "end_time": null,
     "exception": null,
     "start_time": null,
     "status": "pending"
    },
    "tags": []
   },
   "outputs": [],
   "source": [
    "# Seed the unexpected randomness of this world\n",
    "np.random.seed(123)\n",
    "# Get the actual importance, i.e. without shuffling\n",
    "actual_imp_df = get_feature_importances(data=train, shuffle=False)"
   ]
  },
  {
   "cell_type": "code",
   "execution_count": null,
   "id": "192ebe87",
   "metadata": {
    "execution": {
     "iopub.execute_input": "2023-10-01T09:39:39.593656Z",
     "iopub.status.busy": "2023-10-01T09:39:39.593341Z",
     "iopub.status.idle": "2023-10-01T09:39:39.602850Z",
     "shell.execute_reply": "2023-10-01T09:39:39.601998Z",
     "shell.execute_reply.started": "2023-10-01T09:39:39.593631Z"
    },
    "papermill": {
     "duration": null,
     "end_time": null,
     "exception": null,
     "start_time": null,
     "status": "pending"
    },
    "tags": []
   },
   "outputs": [],
   "source": [
    "actual_imp_df.head()"
   ]
  },
  {
   "cell_type": "code",
   "execution_count": null,
   "id": "11c34b2b",
   "metadata": {
    "execution": {
     "iopub.execute_input": "2023-10-01T09:39:39.604660Z",
     "iopub.status.busy": "2023-10-01T09:39:39.604125Z",
     "iopub.status.idle": "2023-10-01T09:43:48.912731Z",
     "shell.execute_reply": "2023-10-01T09:43:48.910387Z",
     "shell.execute_reply.started": "2023-10-01T09:39:39.604631Z"
    },
    "papermill": {
     "duration": null,
     "end_time": null,
     "exception": null,
     "start_time": null,
     "status": "pending"
    },
    "tags": []
   },
   "outputs": [],
   "source": [
    "null_imp_df = pd.DataFrame()\n",
    "nb_runs = 80\n",
    "import time\n",
    "start = time.time()\n",
    "dsp = ''\n",
    "for i in range(nb_runs):\n",
    "    # Get current run importances\n",
    "    imp_df = get_feature_importances(data=train, shuffle=True)\n",
    "    imp_df['run'] = i + 1 \n",
    "    # Concat the latest importances with the old ones\n",
    "    null_imp_df = pd.concat([null_imp_df, imp_df], axis=0)\n",
    "    # Erase previous message\n",
    "    for l in range(len(dsp)):\n",
    "        print('\\b', end='', flush=True)\n",
    "    # Display current run and time used\n",
    "    spent = (time.time() - start) / 60\n",
    "    dsp = 'Done with %4d of %4d (Spent %5.1f min)' % (i + 1, nb_runs, spent)\n",
    "    print(dsp, end='', flush=True)"
   ]
  },
  {
   "cell_type": "code",
   "execution_count": null,
   "id": "d5fca51f",
   "metadata": {
    "execution": {
     "iopub.execute_input": "2023-10-01T09:43:48.916143Z",
     "iopub.status.busy": "2023-10-01T09:43:48.915792Z",
     "iopub.status.idle": "2023-10-01T09:43:48.928998Z",
     "shell.execute_reply": "2023-10-01T09:43:48.927536Z",
     "shell.execute_reply.started": "2023-10-01T09:43:48.916113Z"
    },
    "papermill": {
     "duration": null,
     "end_time": null,
     "exception": null,
     "start_time": null,
     "status": "pending"
    },
    "tags": []
   },
   "outputs": [],
   "source": [
    "null_imp_df.head()"
   ]
  },
  {
   "cell_type": "code",
   "execution_count": null,
   "id": "c2ed5057",
   "metadata": {
    "execution": {
     "iopub.execute_input": "2023-10-01T09:43:48.930805Z",
     "iopub.status.busy": "2023-10-01T09:43:48.930473Z",
     "iopub.status.idle": "2023-10-01T09:43:48.941911Z",
     "shell.execute_reply": "2023-10-01T09:43:48.940887Z",
     "shell.execute_reply.started": "2023-10-01T09:43:48.930779Z"
    },
    "papermill": {
     "duration": null,
     "end_time": null,
     "exception": null,
     "start_time": null,
     "status": "pending"
    },
    "tags": []
   },
   "outputs": [],
   "source": [
    "import matplotlib.gridspec as gridspec\n",
    "\n",
    "def display_distributions(actual_imp_df_, null_imp_df_, feature_):\n",
    "    plt.figure(figsize=(13, 6))\n",
    "    gs = gridspec.GridSpec(1, 2)\n",
    "    # Plot Split importances\n",
    "    ax = plt.subplot(gs[0, 0])\n",
    "    a = ax.hist(null_imp_df_.loc[null_imp_df_['feature'] == feature_, 'importance_split'].values, label='Null importances')\n",
    "    ax.vlines(x=actual_imp_df_.loc[actual_imp_df_['feature'] == feature_, 'importance_split'].mean(), \n",
    "               ymin=0, ymax=np.max(a[0]), color='r',linewidth=10, label='Real Target')\n",
    "    ax.legend()\n",
    "    ax.set_title('Split Importance of %s' % feature_.upper(), fontweight='bold')\n",
    "    plt.xlabel('Null Importance (split) Distribution for %s ' % feature_.upper())\n",
    "    # Plot Gain importances\n",
    "    ax = plt.subplot(gs[0, 1])\n",
    "    a = ax.hist(null_imp_df_.loc[null_imp_df_['feature'] == feature_, 'importance_gain'].values, label='Null importances')\n",
    "    ax.vlines(x=actual_imp_df_.loc[actual_imp_df_['feature'] == feature_, 'importance_gain'].mean(), \n",
    "               ymin=0, ymax=np.max(a[0]), color='r',linewidth=10, label='Real Target')\n",
    "    ax.legend()\n",
    "    ax.set_title('Gain Importance of %s' % feature_.upper(), fontweight='bold')\n",
    "    plt.xlabel('Null Importance (gain) Distribution for %s ' % feature_.upper())"
   ]
  },
  {
   "cell_type": "code",
   "execution_count": null,
   "id": "0ff6b40b",
   "metadata": {
    "execution": {
     "iopub.execute_input": "2023-10-01T09:43:48.943315Z",
     "iopub.status.busy": "2023-10-01T09:43:48.943098Z",
     "iopub.status.idle": "2023-10-01T09:43:49.569203Z",
     "shell.execute_reply": "2023-10-01T09:43:49.568578Z",
     "shell.execute_reply.started": "2023-10-01T09:43:48.943296Z"
    },
    "papermill": {
     "duration": null,
     "end_time": null,
     "exception": null,
     "start_time": null,
     "status": "pending"
    },
    "tags": []
   },
   "outputs": [],
   "source": [
    "display_distributions(actual_imp_df_=actual_imp_df, null_imp_df_=null_imp_df, feature_='abdomo_protein')"
   ]
  },
  {
   "cell_type": "code",
   "execution_count": null,
   "id": "9c3314cc",
   "metadata": {
    "execution": {
     "iopub.execute_input": "2023-10-01T09:43:49.570708Z",
     "iopub.status.busy": "2023-10-01T09:43:49.570435Z",
     "iopub.status.idle": "2023-10-01T09:43:52.279602Z",
     "shell.execute_reply": "2023-10-01T09:43:52.278360Z",
     "shell.execute_reply.started": "2023-10-01T09:43:49.570686Z"
    },
    "papermill": {
     "duration": null,
     "end_time": null,
     "exception": null,
     "start_time": null,
     "status": "pending"
    },
    "tags": []
   },
   "outputs": [],
   "source": [
    "feature_scores = []\n",
    "for _f in actual_imp_df['feature'].unique():\n",
    "    f_null_imps_gain = null_imp_df.loc[null_imp_df['feature'] == _f, 'importance_gain'].values\n",
    "    f_act_imps_gain = actual_imp_df.loc[actual_imp_df['feature'] == _f, 'importance_gain'].mean()\n",
    "    gain_score = np.log(1e-10 + f_act_imps_gain / (1 + np.percentile(f_null_imps_gain, 75)))  # Avoid didvide by zero\n",
    "    f_null_imps_split = null_imp_df.loc[null_imp_df['feature'] == _f, 'importance_split'].values\n",
    "    f_act_imps_split = actual_imp_df.loc[actual_imp_df['feature'] == _f, 'importance_split'].mean()\n",
    "    split_score = np.log(1e-10 + f_act_imps_split / (1 + np.percentile(f_null_imps_split, 75)))  # Avoid didvide by zero\n",
    "    feature_scores.append((_f, split_score, gain_score))\n",
    "\n",
    "scores_df = pd.DataFrame(feature_scores, columns=['feature', 'split_score', 'gain_score'])\n",
    "\n",
    "plt.figure(figsize=(16, 16))\n",
    "gs = gridspec.GridSpec(1, 2)\n",
    "# Plot Split importances\n",
    "ax = plt.subplot(gs[0, 0])\n",
    "sns.barplot(x='split_score', y='feature', data=scores_df.sort_values('split_score', ascending=False).iloc[0:70], ax=ax)\n",
    "ax.set_title('Feature scores wrt split importances', fontweight='bold', fontsize=14)\n",
    "# Plot Gain importances\n",
    "ax = plt.subplot(gs[0, 1])\n",
    "sns.barplot(x='gain_score', y='feature', data=scores_df.sort_values('gain_score', ascending=False).iloc[0:70], ax=ax)\n",
    "ax.set_title('Feature scores wrt gain importances', fontweight='bold', fontsize=14)\n",
    "plt.tight_layout()"
   ]
  },
  {
   "cell_type": "code",
   "execution_count": null,
   "id": "ff91d769",
   "metadata": {
    "execution": {
     "iopub.execute_input": "2023-10-01T09:43:52.281090Z",
     "iopub.status.busy": "2023-10-01T09:43:52.280781Z",
     "iopub.status.idle": "2023-10-01T09:43:52.288234Z",
     "shell.execute_reply": "2023-10-01T09:43:52.287296Z",
     "shell.execute_reply.started": "2023-10-01T09:43:52.281064Z"
    },
    "papermill": {
     "duration": null,
     "end_time": null,
     "exception": null,
     "start_time": null,
     "status": "pending"
    },
    "tags": []
   },
   "outputs": [],
   "source": [
    "feats = scores_df['feature'][(scores_df['split_score']>0)&(scores_df['gain_score']>0)].tolist()\n",
    "feats"
   ]
  },
  {
   "cell_type": "code",
   "execution_count": null,
   "id": "5d65408a",
   "metadata": {
    "execution": {
     "iopub.execute_input": "2023-10-01T09:43:52.289897Z",
     "iopub.status.busy": "2023-10-01T09:43:52.289622Z",
     "iopub.status.idle": "2023-10-01T09:43:54.813927Z",
     "shell.execute_reply": "2023-10-01T09:43:54.812828Z",
     "shell.execute_reply.started": "2023-10-01T09:43:52.289873Z"
    },
    "papermill": {
     "duration": null,
     "end_time": null,
     "exception": null,
     "start_time": null,
     "status": "pending"
    },
    "tags": []
   },
   "outputs": [],
   "source": [
    "correlation_scores = []\n",
    "for _f in actual_imp_df['feature'].unique():\n",
    "    f_null_imps = null_imp_df.loc[null_imp_df['feature'] == _f, 'importance_gain'].values\n",
    "    f_act_imps = actual_imp_df.loc[actual_imp_df['feature'] == _f, 'importance_gain'].values\n",
    "    gain_score = 100 * (f_null_imps < np.percentile(f_act_imps, 25)).sum() / f_null_imps.size\n",
    "    f_null_imps = null_imp_df.loc[null_imp_df['feature'] == _f, 'importance_split'].values\n",
    "    f_act_imps = actual_imp_df.loc[actual_imp_df['feature'] == _f, 'importance_split'].values\n",
    "    split_score = 100 * (f_null_imps < np.percentile(f_act_imps, 25)).sum() / f_null_imps.size\n",
    "    correlation_scores.append((_f, split_score, gain_score))\n",
    "\n",
    "corr_scores_df = pd.DataFrame(correlation_scores, columns=['feature', 'split_score', 'gain_score'])\n",
    "\n",
    "fig = plt.figure(figsize=(16, 16))\n",
    "gs = gridspec.GridSpec(1, 2)\n",
    "# Plot Split importances\n",
    "ax = plt.subplot(gs[0, 0])\n",
    "sns.barplot(x='split_score', y='feature', data=corr_scores_df.sort_values('split_score', ascending=False).iloc[0:70], ax=ax)\n",
    "ax.set_title('Feature scores wrt split importances', fontweight='bold', fontsize=14)\n",
    "# Plot Gain importances\n",
    "ax = plt.subplot(gs[0, 1])\n",
    "sns.barplot(x='gain_score', y='feature', data=corr_scores_df.sort_values('gain_score', ascending=False).iloc[0:70], ax=ax)\n",
    "ax.set_title('Feature scores wrt gain importances', fontweight='bold', fontsize=14)\n",
    "plt.tight_layout()\n",
    "plt.suptitle(\"Features' split and gain scores\", fontweight='bold', fontsize=16)\n",
    "fig.subplots_adjust(top=0.93)"
   ]
  },
  {
   "cell_type": "code",
   "execution_count": null,
   "id": "a649f708",
   "metadata": {
    "execution": {
     "iopub.execute_input": "2023-10-01T09:43:54.818186Z",
     "iopub.status.busy": "2023-10-01T09:43:54.817911Z",
     "iopub.status.idle": "2023-10-01T09:43:54.824220Z",
     "shell.execute_reply": "2023-10-01T09:43:54.823438Z",
     "shell.execute_reply.started": "2023-10-01T09:43:54.818164Z"
    },
    "papermill": {
     "duration": null,
     "end_time": null,
     "exception": null,
     "start_time": null,
     "status": "pending"
    },
    "tags": []
   },
   "outputs": [],
   "source": [
    "from sklearn.metrics import f1_score\n",
    "\n",
    "def lgb_f1_score(preds, data):\n",
    "    y_true = data.get_label()\n",
    "    preds = preds.reshape(-1, 3)\n",
    "    preds = preds.argmax(axis = 1)\n",
    "    f_score = f1_score(y_true , preds,  average = 'micro')\n",
    "    return 'f1_score', f_score, True\n",
    "\n",
    "def score_feature_selection(df=None, train_features=None, cat_feats=None, target=None):\n",
    "    # Fit LightGBM \n",
    "    dtrain = lgb.Dataset(df[train_features], target, free_raw_data=False, silent=True)\n",
    "    lgb_params = {\n",
    "            'n_estimators': 100,\n",
    "            'max_depth': 8,\n",
    "            'learning_rate': 0.02,\n",
    "            'subsample': 0.20,\n",
    "            'colsample_bytree': 0.56,\n",
    "            'reg_alpha': 0.25,\n",
    "            'reg_lambda': 5e-08,\n",
    "            'objective': 'multiclass',\n",
    "            'metric': 'multi_logloss',\n",
    "            'boosting_type': 'gbdt',\n",
    "            'device': 'cpu',\n",
    "            'random_state': 42,\n",
    "            #'class_weight':{0: w[0], 1: w[1], 2: w[2]}\n",
    "            'num_class': 3,\n",
    "            'verbose': -1\n",
    "             }\n",
    "    \n",
    "    # Fit the model\n",
    "    hist = lgb.cv(\n",
    "        params=lgb_params, \n",
    "        train_set=dtrain, \n",
    "        num_boost_round=2000,\n",
    "        #categorical_feature=cat_feats,\n",
    "        nfold=5,\n",
    "        stratified=True,\n",
    "        shuffle=True,\n",
    "        early_stopping_rounds=50,\n",
    "        verbose_eval=0,\n",
    "        seed=17,\n",
    "        feval=lgb_f1_score\n",
    "    )\n",
    "    # Return the last mean / std values \n",
    "    #return hist['auc-mean'][-1], hist['auc-stdv'][-1]\n",
    "    return hist\n",
    "\n",
    "#['multi_logloss-mean'][-1], hist['multi_logloss-stdv'][-1]\n",
    "\n",
    "# features = [f for f in data.columns if f not in ['SK_ID_CURR', 'TARGET']]\n",
    "# score_feature_selection(df=data[features], train_features=features, target=data['TARGET'])"
   ]
  },
  {
   "cell_type": "code",
   "execution_count": null,
   "id": "64284915",
   "metadata": {
    "execution": {
     "iopub.execute_input": "2023-10-01T09:43:54.825194Z",
     "iopub.status.busy": "2023-10-01T09:43:54.824997Z",
     "iopub.status.idle": "2023-10-01T09:48:25.944156Z",
     "shell.execute_reply": "2023-10-01T09:48:25.942853Z",
     "shell.execute_reply.started": "2023-10-01T09:43:54.825176Z"
    },
    "papermill": {
     "duration": null,
     "end_time": null,
     "exception": null,
     "start_time": null,
     "status": "pending"
    },
    "tags": []
   },
   "outputs": [],
   "source": [
    "for threshold in [0, 10, 20, 30 , 40, 50 ,60 , 70, 80 , 90, 95, 99]:\n",
    "    split_feats = [_f for _f, _score, _ in correlation_scores if _score >= threshold]\n",
    "    #split_cat_feats = [_f for _f, _score, _ in correlation_scores if (_score >= threshold) & (_f in categorical_feats)]\n",
    "    gain_feats = [_f for _f, _, _score in correlation_scores if _score >= threshold]\n",
    "    #gain_cat_feats = [_f for _f, _, _score in correlation_scores if (_score >= threshold) & (_f in categorical_feats)]\n",
    "                                                                                             \n",
    "    print('Results for threshold %3d' % threshold)\n",
    "    split_results = score_feature_selection(df=train, train_features=split_feats, target=train['outcome'])\n",
    "    print('\\t SPLIT : %.6f +/- %.6f' % (split_results['f1_score-mean'][-1], split_results['f1_score-stdv'][-1]))\n",
    "    gain_results = score_feature_selection(df=train, train_features=gain_feats, target=train['outcome'])\n",
    "    print('\\t GAIN  : %.6f +/- %.6f' % (gain_results['f1_score-mean'][-1], gain_results['f1_score-stdv'][-1]))"
   ]
  },
  {
   "cell_type": "code",
   "execution_count": null,
   "id": "ce62196c",
   "metadata": {
    "execution": {
     "iopub.execute_input": "2023-10-01T09:48:25.946098Z",
     "iopub.status.busy": "2023-10-01T09:48:25.945819Z",
     "iopub.status.idle": "2023-10-01T09:48:40.948001Z",
     "shell.execute_reply": "2023-10-01T09:48:40.946545Z",
     "shell.execute_reply.started": "2023-10-01T09:48:25.946073Z"
    },
    "papermill": {
     "duration": null,
     "end_time": null,
     "exception": null,
     "start_time": null,
     "status": "pending"
    },
    "tags": []
   },
   "outputs": [],
   "source": [
    "evaluation(df=train, target='outcome', select_features=[t for t in train.columns if t !='outcome'], note='Baseline')"
   ]
  },
  {
   "cell_type": "code",
   "execution_count": null,
   "id": "03667c60",
   "metadata": {
    "execution": {
     "iopub.execute_input": "2023-10-01T09:48:40.949895Z",
     "iopub.status.busy": "2023-10-01T09:48:40.949628Z",
     "iopub.status.idle": "2023-10-01T09:48:51.932241Z",
     "shell.execute_reply": "2023-10-01T09:48:51.931308Z",
     "shell.execute_reply.started": "2023-10-01T09:48:40.949876Z"
    },
    "papermill": {
     "duration": null,
     "end_time": null,
     "exception": null,
     "start_time": null,
     "status": "pending"
    },
    "tags": []
   },
   "outputs": [],
   "source": [
    "evaluation(df=train, target='outcome', select_features=split_feats, note='split_feats')"
   ]
  },
  {
   "cell_type": "code",
   "execution_count": null,
   "id": "1bd06952",
   "metadata": {
    "execution": {
     "iopub.execute_input": "2023-10-01T09:48:51.933650Z",
     "iopub.status.busy": "2023-10-01T09:48:51.933384Z",
     "iopub.status.idle": "2023-10-01T09:49:02.525377Z",
     "shell.execute_reply": "2023-10-01T09:49:02.524135Z",
     "shell.execute_reply.started": "2023-10-01T09:48:51.933629Z"
    },
    "papermill": {
     "duration": null,
     "end_time": null,
     "exception": null,
     "start_time": null,
     "status": "pending"
    },
    "tags": []
   },
   "outputs": [],
   "source": [
    "evaluation(df=train, target='outcome', select_features=gain_feats, note='gain_feats')"
   ]
  },
  {
   "cell_type": "code",
   "execution_count": null,
   "id": "14a722b1",
   "metadata": {
    "execution": {
     "iopub.execute_input": "2023-10-01T09:49:02.528938Z",
     "iopub.status.busy": "2023-10-01T09:49:02.528680Z",
     "iopub.status.idle": "2023-10-01T09:49:16.229429Z",
     "shell.execute_reply": "2023-10-01T09:49:16.228320Z",
     "shell.execute_reply.started": "2023-10-01T09:49:02.528916Z"
    },
    "papermill": {
     "duration": null,
     "end_time": null,
     "exception": null,
     "start_time": null,
     "status": "pending"
    },
    "tags": []
   },
   "outputs": [],
   "source": [
    "evaluation(df=train, target='outcome', select_features=feats, note='split&gain')"
   ]
  },
  {
   "cell_type": "code",
   "execution_count": null,
   "id": "67d6c689",
   "metadata": {
    "execution": {
     "iopub.execute_input": "2023-10-01T10:16:45.779209Z",
     "iopub.status.busy": "2023-10-01T10:16:45.778884Z",
     "iopub.status.idle": "2023-10-01T10:16:59.849027Z",
     "shell.execute_reply": "2023-10-01T10:16:59.847917Z",
     "shell.execute_reply.started": "2023-10-01T10:16:45.779183Z"
    },
    "papermill": {
     "duration": null,
     "end_time": null,
     "exception": null,
     "start_time": null,
     "status": "pending"
    },
    "tags": []
   },
   "outputs": [],
   "source": [
    "evaluation(df=train, target='outcome', select_features=scores_df['feature'][(scores_df['split_score']>0)|(scores_df['gain_score']>0)].tolist(), note='split|gain')"
   ]
  },
  {
   "cell_type": "code",
   "execution_count": null,
   "id": "f5b51405",
   "metadata": {
    "papermill": {
     "duration": null,
     "end_time": null,
     "exception": null,
     "start_time": null,
     "status": "pending"
    },
    "tags": []
   },
   "outputs": [],
   "source": []
  }
 ],
 "metadata": {
  "kernelspec": {
   "display_name": "Python 3",
   "language": "python",
   "name": "python3"
  },
  "language_info": {
   "codemirror_mode": {
    "name": "ipython",
    "version": 3
   },
   "file_extension": ".py",
   "mimetype": "text/x-python",
   "name": "python",
   "nbconvert_exporter": "python",
   "pygments_lexer": "ipython3",
   "version": "3.6.4"
  },
  "papermill": {
   "default_parameters": {},
   "duration": null,
   "end_time": null,
   "environment_variables": {},
   "exception": null,
   "input_path": "__notebook__.ipynb",
   "output_path": "__notebook__.ipynb",
   "parameters": {},
   "start_time": "2023-10-02T05:20:44.538695",
   "version": "2.4.0"
  }
 },
 "nbformat": 4,
 "nbformat_minor": 5
}