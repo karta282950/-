{
 "cells": [
  {
   "cell_type": "code",
   "execution_count": 5,
   "metadata": {},
   "outputs": [],
   "source": [
    "import numpy as np\n",
    "import pandas as pd\n",
    "import seaborn as sns\n",
    "from tqdm.notebook import tqdm\n",
    "\n",
    "from sklearn.preprocessing import normalize\n",
    "from sklearn.impute import SimpleImputer\n",
    "from sklearn.decomposition import PCA\n",
    "from sklearn.model_selection import StratifiedKFold as sKF, KFold as KF, GridSearchCV\n",
    "\n",
    "from imblearn.over_sampling import RandomOverSampler, ADASYN\n",
    "from imblearn.under_sampling import RandomUnderSampler, EditedNearestNeighbours\n",
    "\n",
    "from tabpfn import TabPFNClassifier\n",
    "from xgboost import XGBRFClassifier\n",
    "\n",
    "import warnings\n",
    "warnings.filterwarnings(\"ignore\")\n",
    "\n",
    "import matplotlib.pyplot as plt\n",
    "%matplotlib inline"
   ]
  },
  {
   "cell_type": "code",
   "execution_count": 1,
   "metadata": {},
   "outputs": [],
   "source": [
    "m=['soc_min', 'max_temp_max', 'max_temp_min', 'current_mean',\n",
    "            'patv_mean', 'current_min', 'min_temp_max', 'ts_interval_std',\n",
    "            'max_temp_mean', 'soc_mean', 'soc_std', 'mileage',\n",
    "            'current_tnse1', 'patv_min', 'ts_interval_mean', 'min_temp_mean',\n",
    "            'milecls', 'current_tnse0', 'volt_tnse0', \n",
    "            'ts_interval_outliers', 'volt_tnse1', 'min_temp_min', 'volt_std',\n",
    "            'ts_interval_min',\n",
    "            'min_single_volt_min','max_single_volt_max']"
   ]
  },
  {
   "cell_type": "code",
   "execution_count": 2,
   "metadata": {},
   "outputs": [
    {
     "data": {
      "text/plain": [
       "26"
      ]
     },
     "execution_count": 2,
     "metadata": {},
     "output_type": "execute_result"
    }
   ],
   "source": [
    "len(m)"
   ]
  },
  {
   "cell_type": "code",
   "execution_count": null,
   "metadata": {},
   "outputs": [],
   "source": []
  }
 ],
 "metadata": {
  "kernelspec": {
   "display_name": "tabpfn",
   "language": "python",
   "name": "python3"
  },
  "language_info": {
   "codemirror_mode": {
    "name": "ipython",
    "version": 3
   },
   "file_extension": ".py",
   "mimetype": "text/x-python",
   "name": "python",
   "nbconvert_exporter": "python",
   "pygments_lexer": "ipython3",
   "version": "3.8.5"
  },
  "orig_nbformat": 4
 },
 "nbformat": 4,
 "nbformat_minor": 2
}
