{
 "cells": [
  {
   "cell_type": "code",
   "execution_count": null,
   "metadata": {},
   "outputs": [],
   "source": [
    "\"\"\"\n",
    "[V1]\n",
    "*  \n",
    "\n",
    "[TODO]\n",
    "* Add holiday\n",
    "\n",
    "\"\"\""
   ]
  },
  {
   "cell_type": "code",
   "execution_count": 47,
   "metadata": {},
   "outputs": [],
   "source": [
    "import numpy as np\n",
    "import pandas as pd\n",
    "import time\n",
    "import matplotlib.pyplot as plt\n",
    "from datetime import datetime\n",
    "from prophet import Prophet\n",
    "import gc\n",
    "from joblib import Parallel, delayed\n",
    "from multiprocessing import Pool, cpu_count\n",
    "\n",
    "import warnings\n",
    "warnings.filterwarnings(action='ignore')\n",
    "\n",
    "%matplotlib inline"
   ]
  },
  {
   "cell_type": "code",
   "execution_count": 2,
   "metadata": {},
   "outputs": [
    {
     "data": {
      "text/html": [
       "<div>\n",
       "<style scoped>\n",
       "    .dataframe tbody tr th:only-of-type {\n",
       "        vertical-align: middle;\n",
       "    }\n",
       "\n",
       "    .dataframe tbody tr th {\n",
       "        vertical-align: top;\n",
       "    }\n",
       "\n",
       "    .dataframe thead th {\n",
       "        text-align: right;\n",
       "    }\n",
       "</style>\n",
       "<table border=\"1\" class=\"dataframe\">\n",
       "  <thead>\n",
       "    <tr style=\"text-align: right;\">\n",
       "      <th></th>\n",
       "      <th>ds</th>\n",
       "      <th>id</th>\n",
       "      <th>y</th>\n",
       "    </tr>\n",
       "  </thead>\n",
       "  <tbody>\n",
       "    <tr>\n",
       "      <th>0</th>\n",
       "      <td>2021-11-14</td>\n",
       "      <td>010Y</td>\n",
       "      <td>2034393</td>\n",
       "    </tr>\n",
       "    <tr>\n",
       "      <th>1</th>\n",
       "      <td>2021-11-15</td>\n",
       "      <td>010Y</td>\n",
       "      <td>1665905</td>\n",
       "    </tr>\n",
       "    <tr>\n",
       "      <th>2</th>\n",
       "      <td>2021-11-16</td>\n",
       "      <td>010Y</td>\n",
       "      <td>1559682</td>\n",
       "    </tr>\n",
       "    <tr>\n",
       "      <th>3</th>\n",
       "      <td>2021-11-17</td>\n",
       "      <td>010Y</td>\n",
       "      <td>1281395</td>\n",
       "    </tr>\n",
       "    <tr>\n",
       "      <th>4</th>\n",
       "      <td>2021-11-18</td>\n",
       "      <td>010Y</td>\n",
       "      <td>1088840</td>\n",
       "    </tr>\n",
       "  </tbody>\n",
       "</table>\n",
       "</div>"
      ],
      "text/plain": [
       "           ds    id        y\n",
       "0  2021-11-14  010Y  2034393\n",
       "1  2021-11-15  010Y  1665905\n",
       "2  2021-11-16  010Y  1559682\n",
       "3  2021-11-17  010Y  1281395\n",
       "4  2021-11-18  010Y  1088840"
      ]
     },
     "execution_count": 2,
     "metadata": {},
     "output_type": "execute_result"
    }
   ],
   "source": [
    "#from hts.utilities.load_data import load_hierarchical_sine_data\n",
    "#from datetime import datetime\n",
    "\n",
    "#s, e = datetime(2022, 6, 1), datetime(2023, 7, 31)\n",
    "#hsd = load_hierarchical_sine_data(start=s, end=e, n=10000)\n",
    "#hsd['ds'] = hsd.index.strftime(\"%Y-%m-%d\")\n",
    "#df = hsd.groupby(['ds']).sum().reset_index(drop=False).sort_values(by='ds', ascending=True)\n",
    "df = pd.read_csv('./input/data.csv', sep=',', index_col=0)\n",
    "df.rename(columns={'date': 'ds', 'object_code': 'id', 'trips': 'y'}, inplace=True)\n",
    "df.head()"
   ]
  },
  {
   "cell_type": "code",
   "execution_count": 20,
   "metadata": {},
   "outputs": [],
   "source": [
    "#df_pre = pd.DataFrame(columns=['ds', 'y', 'id'])\n",
    "#for i in range(1, df.shape[1]):\n",
    "#    tmp_df = df.iloc[:, [0,i]]\n",
    "#    tmp_df.rename(columns={tmp_df.columns[1]: 'y'}, inplace=True)\n",
    "#    tmp_df['id'] = df.columns[i]\n",
    "#    df_pre = pd.concat([df_pre, tmp_df], axis=0)"
   ]
  },
  {
   "cell_type": "code",
   "execution_count": 3,
   "metadata": {},
   "outputs": [],
   "source": [
    "class DataProcess(object):\n",
    "    def __init__(self):\n",
    "        pass\n",
    "\n",
    "    def data_tranform(self, data):\n",
    "        # print('transform dataset shape is {}'.format(data.shape))\n",
    "        data = data.groupby(['id']).filter(lambda x: len(x) >= 14)\n",
    "        ts_key = [i for i in data.columns if i != 'y']\n",
    "        data.drop_duplicates(subset=ts_key, inplace=True)\n",
    "        data.sort_values(ts_key, ascending=len(ts_key) * [True], inplace=True)\n",
    "        data['ds'] = data['ds'].astype(str)\n",
    "        data = data[data['ds'] != 'nan']\n",
    "        data['y'] = data['y'].fillna(0)\n",
    "        data['ds'] = data['ds'].apply(lambda x: datetime.strptime(x, \"%Y-%m-%d\"))\n",
    "        data = data.dropna(axis=0)\n",
    "        return data\n",
    "\n",
    "    def replace_fill(self, data, name):\n",
    "        data['ds'] = pd.to_datetime(data['ds'], format='%Y-%m-%d')\n",
    "        data['y'] = data['y'].astype(float)\n",
    "        data.loc[data['y'] <= 0, 'y'] = np.NaN\n",
    "        low = data[data['y'] > 0]['y'].quantile(0.05)\n",
    "        high = data[data['y'] > 0]['y'].quantile(0.995)\n",
    "        data.loc[data['y'] < low, 'y'] = low\n",
    "        data.loc[data['y'] > high, 'y'] = high\n",
    "        data.loc[data['y'].isnull(), 'y'] = data['y'].shift(1).values[0]\n",
    "        data.loc[data['y'].isnull(), 'y'] = data['y'].shift(7).values[0]\n",
    "        data.loc[data['y'].isnull(), 'y'] = data['y'].shift(14).values[0]\n",
    "        data.loc[data['y'].isnull(), 'y'] = data['y'].interpolate(methon='nearest', order=2)\n",
    "        data['id'] = name\n",
    "        return data\n",
    "\n",
    "    def multi_fill(self, data):\n",
    "        data['id'] = data['id'].astype(str)\n",
    "        data_grouped = data.groupby(data.id)\n",
    "        use_cpu = cpu_count() // 2\n",
    "        results = Parallel(n_jobs=use_cpu)(delayed(self.replace_fill)(group, name) for name, group in data_grouped)\n",
    "        p_predict = pd.concat(results)\n",
    "        del data\n",
    "        gc.collect()\n",
    "        return p_predict\n",
    "\n",
    "    def predict_cap(self, data, result, columns):\n",
    "        data_list = set(result['id'].unique())\n",
    "        data_df = data[data['id'].isin(data_list)][['id', 'y']]\n",
    "        for i in data_df['id'].unique():\n",
    "            low = (1 + 0.1) * data_df[data_df['id'] == i]['y'].min()\n",
    "            hight = (1 + 1) * data_df[data_df['id'] == i]['y'].max()\n",
    "            result.loc[(result['id'] == i) & (result[columns] < low), columns] = low\n",
    "            result.loc[(result['id'] == i) & (result[columns] > hight), columns] = hight\n",
    "        del data_df, data\n",
    "        gc.collect()\n",
    "        return result\n",
    "\n",
    "    def date_between(self, date_start_str, date_end_str):\n",
    "        d_start = time.strptime(date_start_str, \"%Y-%m-%d\")\n",
    "        d_end = time.strptime(date_end_str, \"%Y-%m-%d\")\n",
    "        date_result = (datetime.datetime(d_end[0], d_end[1], d_end[2]) - datetime.datetime(d_start[0], d_start[1],\n",
    "                                                                                            d_start[2])).days\n",
    "        return date_result\n",
    "\n",
    "class ParallelFunc(object):\n",
    "    def __init__(self, data, parallel_type, model_func):\n",
    "        self.data = data\n",
    "        self.parallel_type = parallel_type\n",
    "        self.model_func = model_func\n",
    "\n",
    "    def apply_process(self, group, holiday):\n",
    "        data, name = group\n",
    "        df = self.model_func(data, name, holiday)\n",
    "        return df\n",
    "\n",
    "    def multi_processes(self):\n",
    "        pool = Pool(100)\n",
    "        partial_parallel = partial(self.apply_process)\n",
    "        result = pd.concat(pool.map(partial_parallel, [(group, name) for name, group in self.data.groupby('id')]),\n",
    "                            ignore_index=True)\n",
    "        pool.close()\n",
    "        pool.join()\n",
    "        return result\n",
    "\n",
    "    def multi_groupby(self):\n",
    "        data = self.data\n",
    "        data['id'] = data['id'].astype(str)\n",
    "        df_result = pd.DataFrame()\n",
    "        for id in data.id.unique():\n",
    "            one_df = self.model_func(data[data['id'] == id], name=id)\n",
    "            one_df['id'] = id\n",
    "            df_result = df_result.append(one_df)\n",
    "        return df_result\n",
    "\n",
    "    def multi_threading(self):\n",
    "        data = self.data\n",
    "        data['id'] = data['id'].astype(str)\n",
    "        data_grouped = data.groupby(data.id)\n",
    "        use_cpu = cpu_count() // 2\n",
    "        temp = Parallel(n_jobs=use_cpu)(\n",
    "            delayed(self.model_func)(group, name) for name, group in data_grouped)\n",
    "        results = pd.concat(temp)\n",
    "        return results\n",
    "\n",
    "class ProphetModel(object):\n",
    "    def __init__(self, args):\n",
    "        super().__init__()\n",
    "        self.model_type = args['model_type']\n",
    "        self.n_step = args['n_step']\n",
    "        self.parallel_type = args['parallel_type']\n",
    "\n",
    "    def model_train(self, data, name):\n",
    "        if data.shape[0] <= 100:\n",
    "            algorithm = 'Newton'\n",
    "        else:\n",
    "            algorithm = 'LBFGS'\n",
    "        model = Prophet()\n",
    "\n",
    "        model.fit(data, algorithm=algorithm, iter=1000)\n",
    "        future = model.make_future_dataframe(periods=int(self.n_step) + 1, freq='d')\n",
    "        forecast = model.predict(future)\n",
    "        forecast['id'] = name\n",
    "        print('this model type is.{}'.format(self.model_type))\n",
    "        del data\n",
    "        gc.collect()\n",
    "        return forecast\n",
    "\n",
    "    def model_main(self, df, true_time=False):\n",
    "        if true_time is False:\n",
    "            true_time = str(df['ds'].max())[:10]\n",
    "        else:\n",
    "            true_time = datetime.datetime.strptime(true_time, \"%Y-%m-%d\")\n",
    "            true_time = str((true_time + datetime.timedelta(days=self.n_step)).strftime('%Y-%m-%d'))\n",
    "\n",
    "        df['ds'] = pd.to_datetime(df['ds'], format('Y%-%m-%d'))\n",
    "        df = df[df['ds'] <= true_time]\n",
    "        if self.model_type == 'test':\n",
    "            sale_df = df[df['ds'] < bt_start_date]\n",
    "            sale_df = sale_df.groupby(['id']).filter(lambda x: len(x) >= 14)\n",
    "        else:\n",
    "            sale_df = df.groupby(['id']).filter(lambda x: len(x) >= 14)\n",
    "\n",
    "        sale_df['ds'] = sale_df['ds'].astype(str)\n",
    "        sale_df['ds'] = pd.to_datetime(sale_df['ds'])\n",
    "\n",
    "        # sale_df['y'] = np.log1p(sale_df['y'])\n",
    "\n",
    "        parallel_f = ParallelFunc(sale_df, self.parallel_type, self.model_train)\n",
    "        if self.parallel_type == 'multi_threading':\n",
    "            pro_result = parallel_f.multi_threading()\n",
    "        elif self.parallel_type == 'multiple_processes':\n",
    "            pro_result = parallel_f.multi_processes()\n",
    "        else:\n",
    "            pro_result = parallel_f.multi_groupby()\n",
    "\n",
    "        # pro_result['yhat'] = np.expm1(pro_result['yhat'])\n",
    "        pro_result['pro_pred'] = pro_result['yhat']\n",
    "        pro_result.loc[pro_result['pro_pred'] < 0, 'pro_pred'] = 0\n",
    "        pro_result = DataProcess().predict_cap(df, pro_result, 'pro_pred')\n",
    "        result = pro_result[(pro_result['ds'] > df['ds'].max())]\n",
    "        result = result[['id', 'ds', 'pro_pred']].drop_duplicates(subset=['id', 'ds'])\n",
    "        del df, sale_df\n",
    "        gc.collect()\n",
    "        return result"
   ]
  },
  {
   "cell_type": "code",
   "execution_count": 12,
   "metadata": {},
   "outputs": [],
   "source": [
    "# split train and test\n",
    "traindf = df[df['ds']<='2022-02-22']\n",
    "testdf = df[df['ds']>'2022-02-22']"
   ]
  },
  {
   "cell_type": "code",
   "execution_count": 13,
   "metadata": {},
   "outputs": [],
   "source": [
    "sale_df = DataProcess().data_tranform(traindf)\n",
    "sale_df = DataProcess().multi_fill(sale_df)"
   ]
  },
  {
   "cell_type": "code",
   "execution_count": 26,
   "metadata": {},
   "outputs": [
    {
     "name": "stderr",
     "output_type": "stream",
     "text": [
      "Importing plotly failed. Interactive plots will not work.\n",
      "Importing plotly failed. Interactive plots will not work.\n",
      "16:18:33 - cmdstanpy - INFO - Chain [1] start processing\n",
      "16:18:33 - cmdstanpy - INFO - Chain [1] start processing\n",
      "16:18:34 - cmdstanpy - INFO - Chain [1] done processing\n"
     ]
    },
    {
     "name": "stdout",
     "output_type": "stream",
     "text": [
      "this model type is.train\n"
     ]
    },
    {
     "name": "stderr",
     "output_type": "stream",
     "text": [
      "16:18:35 - cmdstanpy - INFO - Chain [1] start processing\n",
      "16:18:35 - cmdstanpy - INFO - Chain [1] done processing\n"
     ]
    },
    {
     "name": "stdout",
     "output_type": "stream",
     "text": [
      "this model type is.train\n"
     ]
    },
    {
     "name": "stderr",
     "output_type": "stream",
     "text": [
      "16:18:35 - cmdstanpy - INFO - Chain [1] start processing\n",
      "16:18:35 - cmdstanpy - INFO - Chain [1] done processing\n"
     ]
    },
    {
     "name": "stdout",
     "output_type": "stream",
     "text": [
      "this model type is.train\n"
     ]
    },
    {
     "name": "stderr",
     "output_type": "stream",
     "text": [
      "16:18:36 - cmdstanpy - INFO - Chain [1] start processing\n",
      "16:18:37 - cmdstanpy - INFO - Chain [1] done processing\n",
      "16:18:37 - cmdstanpy - INFO - Chain [1] done processing\n"
     ]
    },
    {
     "name": "stdout",
     "output_type": "stream",
     "text": [
      "this model type is.train\n",
      "this model type is.train\n"
     ]
    },
    {
     "name": "stderr",
     "output_type": "stream",
     "text": [
      "16:18:38 - cmdstanpy - INFO - Chain [1] start processing\n",
      "16:18:38 - cmdstanpy - INFO - Chain [1] start processing\n",
      "16:18:38 - cmdstanpy - INFO - Chain [1] done processing\n",
      "16:18:39 - cmdstanpy - INFO - Chain [1] done processing\n"
     ]
    },
    {
     "name": "stdout",
     "output_type": "stream",
     "text": [
      "this model type is.train\n",
      "this model type is.train\n"
     ]
    },
    {
     "name": "stderr",
     "output_type": "stream",
     "text": [
      "16:18:39 - cmdstanpy - INFO - Chain [1] start processing\n",
      "16:18:39 - cmdstanpy - INFO - Chain [1] start processing\n",
      "16:18:40 - cmdstanpy - INFO - Chain [1] done processing\n"
     ]
    },
    {
     "name": "stdout",
     "output_type": "stream",
     "text": [
      "this model type is.train\n"
     ]
    },
    {
     "name": "stderr",
     "output_type": "stream",
     "text": [
      "16:18:40 - cmdstanpy - INFO - Chain [1] start processing\n",
      "16:18:40 - cmdstanpy - INFO - Chain [1] done processing\n"
     ]
    },
    {
     "name": "stdout",
     "output_type": "stream",
     "text": [
      "this model type is.train\n"
     ]
    },
    {
     "name": "stderr",
     "output_type": "stream",
     "text": [
      "16:18:40 - cmdstanpy - INFO - Chain [1] start processing\n",
      "16:18:41 - cmdstanpy - INFO - Chain [1] done processing\n"
     ]
    },
    {
     "name": "stdout",
     "output_type": "stream",
     "text": [
      "this model type is.train\n"
     ]
    },
    {
     "name": "stderr",
     "output_type": "stream",
     "text": [
      "16:18:41 - cmdstanpy - INFO - Chain [1] start processing\n",
      "16:18:41 - cmdstanpy - INFO - Chain [1] done processing\n"
     ]
    },
    {
     "name": "stdout",
     "output_type": "stream",
     "text": [
      "this model type is.train\n"
     ]
    },
    {
     "name": "stderr",
     "output_type": "stream",
     "text": [
      "16:18:42 - cmdstanpy - INFO - Chain [1] start processing\n",
      "16:18:42 - cmdstanpy - INFO - Chain [1] done processing\n"
     ]
    },
    {
     "name": "stdout",
     "output_type": "stream",
     "text": [
      "this model type is.train\n"
     ]
    },
    {
     "name": "stderr",
     "output_type": "stream",
     "text": [
      "16:18:42 - cmdstanpy - INFO - Chain [1] start processing\n",
      "16:18:42 - cmdstanpy - INFO - Chain [1] done processing\n"
     ]
    },
    {
     "name": "stdout",
     "output_type": "stream",
     "text": [
      "this model type is.train\n"
     ]
    },
    {
     "name": "stderr",
     "output_type": "stream",
     "text": [
      "16:18:42 - cmdstanpy - INFO - Chain [1] done processing\n",
      "16:18:42 - cmdstanpy - INFO - Chain [1] start processing\n"
     ]
    },
    {
     "name": "stdout",
     "output_type": "stream",
     "text": [
      "this model type is.train\n"
     ]
    },
    {
     "name": "stderr",
     "output_type": "stream",
     "text": [
      "16:18:43 - cmdstanpy - INFO - Chain [1] start processing\n",
      "16:18:43 - cmdstanpy - INFO - Chain [1] done processing\n",
      "16:18:43 - cmdstanpy - INFO - Chain [1] done processing\n"
     ]
    },
    {
     "name": "stdout",
     "output_type": "stream",
     "text": [
      "this model type is.train\n",
      "this model type is.train\n"
     ]
    },
    {
     "name": "stderr",
     "output_type": "stream",
     "text": [
      "16:18:44 - cmdstanpy - INFO - Chain [1] start processing\n",
      "16:18:44 - cmdstanpy - INFO - Chain [1] start processing\n",
      "16:18:44 - cmdstanpy - INFO - Chain [1] done processing\n",
      "16:18:44 - cmdstanpy - INFO - Chain [1] done processing\n"
     ]
    },
    {
     "name": "stdout",
     "output_type": "stream",
     "text": [
      "this model type is.train\n"
     ]
    },
    {
     "name": "stderr",
     "output_type": "stream",
     "text": [
      "16:18:44 - cmdstanpy - INFO - Chain [1] start processing\n"
     ]
    },
    {
     "name": "stdout",
     "output_type": "stream",
     "text": [
      "this model type is.train\n",
      "this model type is.train\n"
     ]
    },
    {
     "name": "stderr",
     "output_type": "stream",
     "text": [
      "16:18:45 - cmdstanpy - INFO - Chain [1] done processing\n",
      "16:18:45 - cmdstanpy - INFO - Chain [1] start processing\n",
      "16:18:45 - cmdstanpy - INFO - Chain [1] start processing\n",
      "16:18:46 - cmdstanpy - INFO - Chain [1] done processing\n"
     ]
    },
    {
     "name": "stdout",
     "output_type": "stream",
     "text": [
      "this model type is.train\n"
     ]
    },
    {
     "name": "stderr",
     "output_type": "stream",
     "text": [
      "16:18:47 - cmdstanpy - INFO - Chain [1] start processing\n",
      "16:18:47 - cmdstanpy - INFO - Chain [1] done processing\n"
     ]
    },
    {
     "name": "stdout",
     "output_type": "stream",
     "text": [
      "this model type is.train\n"
     ]
    },
    {
     "name": "stderr",
     "output_type": "stream",
     "text": [
      "16:18:47 - cmdstanpy - INFO - Chain [1] start processing\n",
      "16:18:48 - cmdstanpy - INFO - Chain [1] done processing\n",
      "16:18:48 - cmdstanpy - INFO - Chain [1] done processing\n"
     ]
    },
    {
     "name": "stdout",
     "output_type": "stream",
     "text": [
      "this model type is.train\n",
      "this model type is.train\n"
     ]
    },
    {
     "name": "stderr",
     "output_type": "stream",
     "text": [
      "16:18:49 - cmdstanpy - INFO - Chain [1] start processing\n",
      "16:18:49 - cmdstanpy - INFO - Chain [1] start processing\n",
      "16:18:50 - cmdstanpy - INFO - Chain [1] done processing\n"
     ]
    },
    {
     "name": "stdout",
     "output_type": "stream",
     "text": [
      "this model type is.train\n"
     ]
    },
    {
     "name": "stderr",
     "output_type": "stream",
     "text": [
      "16:18:50 - cmdstanpy - INFO - Chain [1] start processing\n",
      "16:18:51 - cmdstanpy - INFO - Chain [1] done processing\n"
     ]
    },
    {
     "name": "stdout",
     "output_type": "stream",
     "text": [
      "this model type is.train\n"
     ]
    },
    {
     "name": "stderr",
     "output_type": "stream",
     "text": [
      "16:18:51 - cmdstanpy - INFO - Chain [1] done processing\n",
      "16:18:51 - cmdstanpy - INFO - Chain [1] start processing\n"
     ]
    },
    {
     "name": "stdout",
     "output_type": "stream",
     "text": [
      "this model type is.train\n"
     ]
    },
    {
     "name": "stderr",
     "output_type": "stream",
     "text": [
      "16:18:51 - cmdstanpy - INFO - Chain [1] start processing\n",
      "16:18:52 - cmdstanpy - INFO - Chain [1] done processing\n",
      "16:18:52 - cmdstanpy - INFO - Chain [1] done processing\n"
     ]
    },
    {
     "name": "stdout",
     "output_type": "stream",
     "text": [
      "this model type is.train\n",
      "this model type is.train\n"
     ]
    },
    {
     "name": "stderr",
     "output_type": "stream",
     "text": [
      "16:18:52 - cmdstanpy - INFO - Chain [1] start processing\n",
      "16:18:52 - cmdstanpy - INFO - Chain [1] start processing\n",
      "16:18:54 - cmdstanpy - INFO - Chain [1] done processing\n"
     ]
    },
    {
     "name": "stdout",
     "output_type": "stream",
     "text": [
      "this model type is.train\n"
     ]
    },
    {
     "name": "stderr",
     "output_type": "stream",
     "text": [
      "16:18:54 - cmdstanpy - INFO - Chain [1] start processing\n",
      "16:18:54 - cmdstanpy - INFO - Chain [1] done processing\n"
     ]
    },
    {
     "name": "stdout",
     "output_type": "stream",
     "text": [
      "this model type is.train\n"
     ]
    },
    {
     "name": "stderr",
     "output_type": "stream",
     "text": [
      "16:18:55 - cmdstanpy - INFO - Chain [1] start processing\n",
      "16:18:55 - cmdstanpy - INFO - Chain [1] done processing\n",
      "16:18:55 - cmdstanpy - INFO - Chain [1] done processing\n",
      "16:18:55 - cmdstanpy - INFO - Chain [1] start processing\n"
     ]
    },
    {
     "name": "stdout",
     "output_type": "stream",
     "text": [
      "this model type is.train\n",
      "this model type is.train\n"
     ]
    },
    {
     "name": "stderr",
     "output_type": "stream",
     "text": [
      "16:18:55 - cmdstanpy - INFO - Chain [1] start processing\n",
      "16:18:55 - cmdstanpy - INFO - Chain [1] done processing\n",
      "16:18:56 - cmdstanpy - INFO - Chain [1] done processing\n",
      "16:18:56 - cmdstanpy - INFO - Chain [1] start processing\n"
     ]
    },
    {
     "name": "stdout",
     "output_type": "stream",
     "text": [
      "this model type is.train\n",
      "this model type is.train\n"
     ]
    },
    {
     "name": "stderr",
     "output_type": "stream",
     "text": [
      "16:18:56 - cmdstanpy - INFO - Chain [1] start processing\n",
      "16:18:56 - cmdstanpy - INFO - Chain [1] done processing\n"
     ]
    },
    {
     "name": "stdout",
     "output_type": "stream",
     "text": [
      "this model type is.train\n"
     ]
    },
    {
     "name": "stderr",
     "output_type": "stream",
     "text": [
      "16:18:56 - cmdstanpy - INFO - Chain [1] start processing\n",
      "16:18:56 - cmdstanpy - INFO - Chain [1] done processing\n"
     ]
    },
    {
     "name": "stdout",
     "output_type": "stream",
     "text": [
      "this model type is.train\n"
     ]
    },
    {
     "name": "stderr",
     "output_type": "stream",
     "text": [
      "16:18:56 - cmdstanpy - INFO - Chain [1] done processing\n",
      "16:18:57 - cmdstanpy - INFO - Chain [1] start processing\n"
     ]
    },
    {
     "name": "stdout",
     "output_type": "stream",
     "text": [
      "this model type is.train\n"
     ]
    },
    {
     "name": "stderr",
     "output_type": "stream",
     "text": [
      "16:18:57 - cmdstanpy - INFO - Chain [1] start processing\n",
      "16:18:57 - cmdstanpy - INFO - Chain [1] done processing\n",
      "16:18:57 - cmdstanpy - INFO - Chain [1] done processing\n"
     ]
    },
    {
     "name": "stdout",
     "output_type": "stream",
     "text": [
      "this model type is.train\n",
      "this model type is.train\n"
     ]
    },
    {
     "name": "stderr",
     "output_type": "stream",
     "text": [
      "16:18:58 - cmdstanpy - INFO - Chain [1] start processing\n",
      "16:18:58 - cmdstanpy - INFO - Chain [1] start processing\n",
      "16:18:58 - cmdstanpy - INFO - Chain [1] done processing\n",
      "16:18:58 - cmdstanpy - INFO - Chain [1] done processing\n"
     ]
    },
    {
     "name": "stdout",
     "output_type": "stream",
     "text": [
      "this model type is.train\n",
      "this model type is.train\n"
     ]
    },
    {
     "name": "stderr",
     "output_type": "stream",
     "text": [
      "16:18:58 - cmdstanpy - INFO - Chain [1] start processing\n",
      "16:18:59 - cmdstanpy - INFO - Chain [1] start processing\n",
      "16:18:59 - cmdstanpy - INFO - Chain [1] done processing\n",
      "16:18:59 - cmdstanpy - INFO - Chain [1] done processing\n"
     ]
    },
    {
     "name": "stdout",
     "output_type": "stream",
     "text": [
      "this model type is.train\n",
      "this model type is.train\n"
     ]
    },
    {
     "name": "stderr",
     "output_type": "stream",
     "text": [
      "16:18:59 - cmdstanpy - INFO - Chain [1] start processing\n",
      "16:18:59 - cmdstanpy - INFO - Chain [1] start processing\n",
      "16:19:00 - cmdstanpy - INFO - Chain [1] done processing\n",
      "16:19:00 - cmdstanpy - INFO - Chain [1] done processing\n"
     ]
    },
    {
     "name": "stdout",
     "output_type": "stream",
     "text": [
      "this model type is.train\n",
      "this model type is.train\n"
     ]
    },
    {
     "name": "stderr",
     "output_type": "stream",
     "text": [
      "16:19:00 - cmdstanpy - INFO - Chain [1] start processing\n",
      "16:19:00 - cmdstanpy - INFO - Chain [1] start processing\n",
      "16:19:01 - cmdstanpy - INFO - Chain [1] done processing\n",
      "16:19:01 - cmdstanpy - INFO - Chain [1] done processing\n"
     ]
    },
    {
     "name": "stdout",
     "output_type": "stream",
     "text": [
      "this model type is.train\n"
     ]
    },
    {
     "name": "stderr",
     "output_type": "stream",
     "text": [
      "16:19:02 - cmdstanpy - INFO - Chain [1] start processing\n"
     ]
    },
    {
     "name": "stdout",
     "output_type": "stream",
     "text": [
      "this model type is.train\n"
     ]
    },
    {
     "name": "stderr",
     "output_type": "stream",
     "text": [
      "16:19:02 - cmdstanpy - INFO - Chain [1] start processing\n",
      "16:19:03 - cmdstanpy - INFO - Chain [1] done processing\n"
     ]
    },
    {
     "name": "stdout",
     "output_type": "stream",
     "text": [
      "this model type is.train\n",
      "this model type is.train\n"
     ]
    },
    {
     "name": "stderr",
     "output_type": "stream",
     "text": [
      "16:19:03 - cmdstanpy - INFO - Chain [1] done processing\n",
      "16:19:03 - cmdstanpy - INFO - Chain [1] start processing\n",
      "16:19:03 - cmdstanpy - INFO - Chain [1] start processing\n",
      "16:19:03 - cmdstanpy - INFO - Chain [1] done processing\n"
     ]
    },
    {
     "name": "stdout",
     "output_type": "stream",
     "text": [
      "this model type is.train\n"
     ]
    },
    {
     "name": "stderr",
     "output_type": "stream",
     "text": [
      "16:19:04 - cmdstanpy - INFO - Chain [1] done processing\n",
      "16:19:04 - cmdstanpy - INFO - Chain [1] start processing\n"
     ]
    },
    {
     "name": "stdout",
     "output_type": "stream",
     "text": [
      "this model type is.train\n"
     ]
    },
    {
     "name": "stderr",
     "output_type": "stream",
     "text": [
      "16:19:05 - cmdstanpy - INFO - Chain [1] start processing\n",
      "16:19:06 - cmdstanpy - INFO - Chain [1] done processing\n"
     ]
    },
    {
     "name": "stdout",
     "output_type": "stream",
     "text": [
      "this model type is.train\n"
     ]
    },
    {
     "name": "stderr",
     "output_type": "stream",
     "text": [
      "16:19:07 - cmdstanpy - INFO - Chain [1] done processing\n",
      "16:19:07 - cmdstanpy - INFO - Chain [1] start processing\n"
     ]
    },
    {
     "name": "stdout",
     "output_type": "stream",
     "text": [
      "this model type is.train\n"
     ]
    },
    {
     "name": "stderr",
     "output_type": "stream",
     "text": [
      "16:19:08 - cmdstanpy - INFO - Chain [1] start processing\n",
      "16:19:09 - cmdstanpy - INFO - Chain [1] done processing\n"
     ]
    },
    {
     "name": "stdout",
     "output_type": "stream",
     "text": [
      "this model type is.train\n"
     ]
    },
    {
     "name": "stderr",
     "output_type": "stream",
     "text": [
      "16:19:10 - cmdstanpy - INFO - Chain [1] start processing\n",
      "16:19:10 - cmdstanpy - INFO - Chain [1] done processing\n"
     ]
    },
    {
     "name": "stdout",
     "output_type": "stream",
     "text": [
      "this model type is.train\n"
     ]
    },
    {
     "name": "stderr",
     "output_type": "stream",
     "text": [
      "16:19:11 - cmdstanpy - INFO - Chain [1] start processing\n",
      "16:19:11 - cmdstanpy - INFO - Chain [1] done processing\n",
      "16:19:11 - cmdstanpy - INFO - Chain [1] done processing\n",
      "16:19:11 - cmdstanpy - INFO - Chain [1] start processing\n"
     ]
    },
    {
     "name": "stdout",
     "output_type": "stream",
     "text": [
      "this model type is.train\n",
      "this model type is.train\n"
     ]
    },
    {
     "name": "stderr",
     "output_type": "stream",
     "text": [
      "16:19:11 - cmdstanpy - INFO - Chain [1] start processing\n",
      "16:19:11 - cmdstanpy - INFO - Chain [1] done processing\n",
      "16:19:12 - cmdstanpy - INFO - Chain [1] done processing\n",
      "16:19:12 - cmdstanpy - INFO - Chain [1] start processing\n"
     ]
    },
    {
     "name": "stdout",
     "output_type": "stream",
     "text": [
      "this model type is.train\n",
      "this model type is.train\n"
     ]
    },
    {
     "name": "stderr",
     "output_type": "stream",
     "text": [
      "16:19:12 - cmdstanpy - INFO - Chain [1] start processing\n",
      "16:19:12 - cmdstanpy - INFO - Chain [1] done processing\n"
     ]
    },
    {
     "name": "stdout",
     "output_type": "stream",
     "text": [
      "this model type is.train\n"
     ]
    },
    {
     "name": "stderr",
     "output_type": "stream",
     "text": [
      "16:19:12 - cmdstanpy - INFO - Chain [1] start processing\n",
      "16:19:12 - cmdstanpy - INFO - Chain [1] done processing\n"
     ]
    },
    {
     "name": "stdout",
     "output_type": "stream",
     "text": [
      "this model type is.train\n"
     ]
    },
    {
     "name": "stderr",
     "output_type": "stream",
     "text": [
      "16:19:12 - cmdstanpy - INFO - Chain [1] start processing\n",
      "16:19:12 - cmdstanpy - INFO - Chain [1] done processing\n"
     ]
    },
    {
     "name": "stdout",
     "output_type": "stream",
     "text": [
      "this model type is.train\n",
      "this model type is.train\n"
     ]
    },
    {
     "name": "stderr",
     "output_type": "stream",
     "text": [
      "16:19:13 - cmdstanpy - INFO - Chain [1] start processing\n",
      "16:19:13 - cmdstanpy - INFO - Chain [1] done processing\n",
      "16:19:13 - cmdstanpy - INFO - Chain [1] start processing\n",
      "16:19:13 - cmdstanpy - INFO - Chain [1] done processing\n",
      "16:19:13 - cmdstanpy - INFO - Chain [1] done processing\n",
      "16:19:13 - cmdstanpy - INFO - Chain [1] start processing\n"
     ]
    },
    {
     "name": "stdout",
     "output_type": "stream",
     "text": [
      "this model type is.train\n",
      "this model type is.train\n"
     ]
    },
    {
     "name": "stderr",
     "output_type": "stream",
     "text": [
      "16:19:13 - cmdstanpy - INFO - Chain [1] start processing\n",
      "16:19:13 - cmdstanpy - INFO - Chain [1] done processing\n",
      "16:19:13 - cmdstanpy - INFO - Chain [1] done processing\n",
      "16:19:13 - cmdstanpy - INFO - Chain [1] start processing\n"
     ]
    },
    {
     "name": "stdout",
     "output_type": "stream",
     "text": [
      "this model type is.train\n",
      "this model type is.train\n"
     ]
    },
    {
     "name": "stderr",
     "output_type": "stream",
     "text": [
      "16:19:13 - cmdstanpy - INFO - Chain [1] done processing\n",
      "16:19:14 - cmdstanpy - INFO - Chain [1] start processing\n",
      "16:19:14 - cmdstanpy - INFO - Chain [1] start processing\n"
     ]
    },
    {
     "name": "stdout",
     "output_type": "stream",
     "text": [
      "this model type is.train\n"
     ]
    },
    {
     "name": "stderr",
     "output_type": "stream",
     "text": [
      "16:19:14 - cmdstanpy - INFO - Chain [1] done processing\n",
      "16:19:14 - cmdstanpy - INFO - Chain [1] done processing\n",
      "16:19:14 - cmdstanpy - INFO - Chain [1] start processing\n"
     ]
    },
    {
     "name": "stdout",
     "output_type": "stream",
     "text": [
      "this model type is.train\n",
      "this model type is.train\n"
     ]
    },
    {
     "name": "stderr",
     "output_type": "stream",
     "text": [
      "16:19:14 - cmdstanpy - INFO - Chain [1] start processing\n",
      "16:19:14 - cmdstanpy - INFO - Chain [1] done processing\n",
      "16:19:14 - cmdstanpy - INFO - Chain [1] done processing\n",
      "16:19:14 - cmdstanpy - INFO - Chain [1] start processing\n"
     ]
    },
    {
     "name": "stdout",
     "output_type": "stream",
     "text": [
      "this model type is.train\n",
      "this model type is.train\n"
     ]
    },
    {
     "name": "stderr",
     "output_type": "stream",
     "text": [
      "16:19:14 - cmdstanpy - INFO - Chain [1] start processing\n",
      "16:19:15 - cmdstanpy - INFO - Chain [1] done processing\n"
     ]
    },
    {
     "name": "stdout",
     "output_type": "stream",
     "text": [
      "this model type is.train\n"
     ]
    },
    {
     "name": "stderr",
     "output_type": "stream",
     "text": [
      "16:19:15 - cmdstanpy - INFO - Chain [1] start processing\n",
      "16:19:15 - cmdstanpy - INFO - Chain [1] done processing\n",
      "16:19:15 - cmdstanpy - INFO - Chain [1] done processing\n",
      "16:19:15 - cmdstanpy - INFO - Chain [1] start processing\n",
      "16:19:15 - cmdstanpy - INFO - Chain [1] start processing\n"
     ]
    },
    {
     "name": "stdout",
     "output_type": "stream",
     "text": [
      "this model type is.train\n",
      "this model type is.train\n"
     ]
    },
    {
     "name": "stderr",
     "output_type": "stream",
     "text": [
      "16:19:16 - cmdstanpy - INFO - Chain [1] done processing\n",
      "16:19:16 - cmdstanpy - INFO - Chain [1] done processing\n",
      "16:19:16 - cmdstanpy - INFO - Chain [1] start processing\n"
     ]
    },
    {
     "name": "stdout",
     "output_type": "stream",
     "text": [
      "this model type is.train\n",
      "this model type is.train\n"
     ]
    },
    {
     "name": "stderr",
     "output_type": "stream",
     "text": [
      "16:19:16 - cmdstanpy - INFO - Chain [1] start processing\n",
      "16:19:16 - cmdstanpy - INFO - Chain [1] done processing\n"
     ]
    },
    {
     "name": "stdout",
     "output_type": "stream",
     "text": [
      "this model type is.train\n",
      "this model type is.train\n"
     ]
    },
    {
     "name": "stderr",
     "output_type": "stream",
     "text": [
      "16:19:16 - cmdstanpy - INFO - Chain [1] start processing\n",
      "16:19:16 - cmdstanpy - INFO - Chain [1] done processing\n",
      "16:19:17 - cmdstanpy - INFO - Chain [1] start processing\n",
      "16:19:17 - cmdstanpy - INFO - Chain [1] done processing\n",
      "16:19:17 - cmdstanpy - INFO - Chain [1] done processing\n"
     ]
    },
    {
     "name": "stdout",
     "output_type": "stream",
     "text": [
      "this model type is.train\n",
      "this model type is.train\n"
     ]
    },
    {
     "name": "stderr",
     "output_type": "stream",
     "text": [
      "16:19:17 - cmdstanpy - INFO - Chain [1] start processing\n",
      "16:19:17 - cmdstanpy - INFO - Chain [1] start processing\n",
      "16:19:17 - cmdstanpy - INFO - Chain [1] done processing\n",
      "16:19:17 - cmdstanpy - INFO - Chain [1] done processing\n",
      "16:19:17 - cmdstanpy - INFO - Chain [1] start processing\n"
     ]
    },
    {
     "name": "stdout",
     "output_type": "stream",
     "text": [
      "this model type is.train\n",
      "this model type is.train\n"
     ]
    },
    {
     "name": "stderr",
     "output_type": "stream",
     "text": [
      "16:19:18 - cmdstanpy - INFO - Chain [1] start processing\n",
      "16:19:18 - cmdstanpy - INFO - Chain [1] done processing\n"
     ]
    },
    {
     "name": "stdout",
     "output_type": "stream",
     "text": [
      "this model type is.train\n"
     ]
    },
    {
     "name": "stderr",
     "output_type": "stream",
     "text": [
      "16:19:19 - cmdstanpy - INFO - Chain [1] done processing\n",
      "16:19:19 - cmdstanpy - INFO - Chain [1] start processing\n"
     ]
    },
    {
     "name": "stdout",
     "output_type": "stream",
     "text": [
      "this model type is.train\n"
     ]
    },
    {
     "name": "stderr",
     "output_type": "stream",
     "text": [
      "16:19:20 - cmdstanpy - INFO - Chain [1] done processing\n",
      "16:19:20 - cmdstanpy - INFO - Chain [1] start processing\n"
     ]
    },
    {
     "name": "stdout",
     "output_type": "stream",
     "text": [
      "this model type is.train\n"
     ]
    },
    {
     "name": "stderr",
     "output_type": "stream",
     "text": [
      "16:19:21 - cmdstanpy - INFO - Chain [1] done processing\n",
      "16:19:22 - cmdstanpy - INFO - Chain [1] start processing\n"
     ]
    },
    {
     "name": "stdout",
     "output_type": "stream",
     "text": [
      "this model type is.train\n"
     ]
    },
    {
     "name": "stderr",
     "output_type": "stream",
     "text": [
      "16:19:23 - cmdstanpy - INFO - Chain [1] start processing\n",
      "16:19:23 - cmdstanpy - INFO - Chain [1] done processing\n"
     ]
    },
    {
     "name": "stdout",
     "output_type": "stream",
     "text": [
      "this model type is.train\n"
     ]
    },
    {
     "name": "stderr",
     "output_type": "stream",
     "text": [
      "16:19:24 - cmdstanpy - INFO - Chain [1] start processing\n",
      "16:19:24 - cmdstanpy - INFO - Chain [1] done processing\n"
     ]
    },
    {
     "name": "stdout",
     "output_type": "stream",
     "text": [
      "this model type is.train\n"
     ]
    },
    {
     "name": "stderr",
     "output_type": "stream",
     "text": [
      "16:19:24 - cmdstanpy - INFO - Chain [1] done processing\n",
      "16:19:24 - cmdstanpy - INFO - Chain [1] start processing\n",
      "16:19:24 - cmdstanpy - INFO - Chain [1] done processing\n"
     ]
    },
    {
     "name": "stdout",
     "output_type": "stream",
     "text": [
      "this model type is.train\n"
     ]
    },
    {
     "name": "stderr",
     "output_type": "stream",
     "text": [
      "16:19:24 - cmdstanpy - INFO - Chain [1] start processing\n"
     ]
    },
    {
     "name": "stdout",
     "output_type": "stream",
     "text": [
      "this model type is.train\n"
     ]
    },
    {
     "name": "stderr",
     "output_type": "stream",
     "text": [
      "16:19:25 - cmdstanpy - INFO - Chain [1] start processing\n",
      "16:19:25 - cmdstanpy - INFO - Chain [1] done processing\n"
     ]
    },
    {
     "name": "stdout",
     "output_type": "stream",
     "text": [
      "this model type is.train\n",
      "this model type is.train\n"
     ]
    },
    {
     "name": "stderr",
     "output_type": "stream",
     "text": [
      "16:19:25 - cmdstanpy - INFO - Chain [1] done processing\n",
      "16:19:25 - cmdstanpy - INFO - Chain [1] start processing\n",
      "16:19:25 - cmdstanpy - INFO - Chain [1] start processing\n",
      "16:19:25 - cmdstanpy - INFO - Chain [1] done processing\n",
      "16:19:25 - cmdstanpy - INFO - Chain [1] done processing\n"
     ]
    },
    {
     "name": "stdout",
     "output_type": "stream",
     "text": [
      "this model type is.train\n",
      "this model type is.train\n"
     ]
    },
    {
     "name": "stderr",
     "output_type": "stream",
     "text": [
      "16:19:26 - cmdstanpy - INFO - Chain [1] start processing\n",
      "16:19:26 - cmdstanpy - INFO - Chain [1] start processing\n",
      "16:19:26 - cmdstanpy - INFO - Chain [1] done processing\n",
      "16:19:26 - cmdstanpy - INFO - Chain [1] done processing\n"
     ]
    },
    {
     "name": "stdout",
     "output_type": "stream",
     "text": [
      "this model type is.train\n",
      "this model type is.train\n"
     ]
    },
    {
     "name": "stderr",
     "output_type": "stream",
     "text": [
      "16:19:26 - cmdstanpy - INFO - Chain [1] start processing\n",
      "16:19:26 - cmdstanpy - INFO - Chain [1] start processing\n",
      "16:19:26 - cmdstanpy - INFO - Chain [1] done processing\n",
      "16:19:26 - cmdstanpy - INFO - Chain [1] done processing\n",
      "16:19:27 - cmdstanpy - INFO - Chain [1] start processing\n",
      "16:19:27 - cmdstanpy - INFO - Chain [1] start processing\n"
     ]
    },
    {
     "name": "stdout",
     "output_type": "stream",
     "text": [
      "this model type is.train\n",
      "this model type is.train\n"
     ]
    },
    {
     "name": "stderr",
     "output_type": "stream",
     "text": [
      "16:19:27 - cmdstanpy - INFO - Chain [1] done processing\n",
      "16:19:27 - cmdstanpy - INFO - Chain [1] done processing\n",
      "16:19:27 - cmdstanpy - INFO - Chain [1] start processing\n"
     ]
    },
    {
     "name": "stdout",
     "output_type": "stream",
     "text": [
      "this model type is.train\n",
      "this model type is.train\n",
      "this model type is.train\n"
     ]
    },
    {
     "name": "stderr",
     "output_type": "stream",
     "text": [
      "16:19:27 - cmdstanpy - INFO - Chain [1] done processing\n",
      "16:19:27 - cmdstanpy - INFO - Chain [1] start processing\n",
      "16:19:27 - cmdstanpy - INFO - Chain [1] start processing\n",
      "16:19:27 - cmdstanpy - INFO - Chain [1] done processing\n"
     ]
    },
    {
     "name": "stdout",
     "output_type": "stream",
     "text": [
      "this model type is.train\n"
     ]
    },
    {
     "name": "stderr",
     "output_type": "stream",
     "text": [
      "16:19:28 - cmdstanpy - INFO - Chain [1] start processing\n",
      "16:19:28 - cmdstanpy - INFO - Chain [1] done processing\n"
     ]
    },
    {
     "name": "stdout",
     "output_type": "stream",
     "text": [
      "this model type is.train\n"
     ]
    },
    {
     "name": "stderr",
     "output_type": "stream",
     "text": [
      "16:19:28 - cmdstanpy - INFO - Chain [1] start processing\n",
      "16:19:29 - cmdstanpy - INFO - Chain [1] done processing\n"
     ]
    },
    {
     "name": "stdout",
     "output_type": "stream",
     "text": [
      "this model type is.train\n"
     ]
    },
    {
     "name": "stderr",
     "output_type": "stream",
     "text": [
      "16:19:29 - cmdstanpy - INFO - Chain [1] done processing\n",
      "16:19:29 - cmdstanpy - INFO - Chain [1] start processing\n"
     ]
    },
    {
     "name": "stdout",
     "output_type": "stream",
     "text": [
      "this model type is.train\n"
     ]
    },
    {
     "name": "stderr",
     "output_type": "stream",
     "text": [
      "16:19:29 - cmdstanpy - INFO - Chain [1] done processing\n",
      "16:19:29 - cmdstanpy - INFO - Chain [1] start processing\n"
     ]
    },
    {
     "name": "stdout",
     "output_type": "stream",
     "text": [
      "this model type is.train\n"
     ]
    },
    {
     "name": "stderr",
     "output_type": "stream",
     "text": [
      "16:19:29 - cmdstanpy - INFO - Chain [1] start processing\n",
      "16:19:29 - cmdstanpy - INFO - Chain [1] done processing\n"
     ]
    },
    {
     "name": "stdout",
     "output_type": "stream",
     "text": [
      "this model type is.train\n",
      "this model type is.train\n"
     ]
    },
    {
     "name": "stderr",
     "output_type": "stream",
     "text": [
      "16:19:30 - cmdstanpy - INFO - Chain [1] done processing\n",
      "16:19:30 - cmdstanpy - INFO - Chain [1] start processing\n",
      "16:19:30 - cmdstanpy - INFO - Chain [1] start processing\n",
      "16:19:30 - cmdstanpy - INFO - Chain [1] done processing\n"
     ]
    },
    {
     "name": "stdout",
     "output_type": "stream",
     "text": [
      "this model type is.train\n",
      "this model type is.train\n"
     ]
    },
    {
     "name": "stderr",
     "output_type": "stream",
     "text": [
      "16:19:30 - cmdstanpy - INFO - Chain [1] done processing\n",
      "16:19:30 - cmdstanpy - INFO - Chain [1] start processing\n",
      "16:19:30 - cmdstanpy - INFO - Chain [1] start processing\n",
      "16:19:30 - cmdstanpy - INFO - Chain [1] done processing\n"
     ]
    },
    {
     "name": "stdout",
     "output_type": "stream",
     "text": [
      "this model type is.train\n",
      "this model type is.train\n"
     ]
    },
    {
     "name": "stderr",
     "output_type": "stream",
     "text": [
      "16:19:30 - cmdstanpy - INFO - Chain [1] done processing\n",
      "16:19:30 - cmdstanpy - INFO - Chain [1] start processing\n",
      "16:19:30 - cmdstanpy - INFO - Chain [1] start processing\n",
      "16:19:31 - cmdstanpy - INFO - Chain [1] done processing\n",
      "16:19:31 - cmdstanpy - INFO - Chain [1] done processing\n",
      "16:19:31 - cmdstanpy - INFO - Chain [1] start processing\n"
     ]
    },
    {
     "name": "stdout",
     "output_type": "stream",
     "text": [
      "this model type is.train\n",
      "this model type is.train\n"
     ]
    },
    {
     "name": "stderr",
     "output_type": "stream",
     "text": [
      "16:19:31 - cmdstanpy - INFO - Chain [1] start processing\n",
      "16:19:31 - cmdstanpy - INFO - Chain [1] done processing\n",
      "16:19:31 - cmdstanpy - INFO - Chain [1] done processing\n",
      "16:19:31 - cmdstanpy - INFO - Chain [1] start processing\n"
     ]
    },
    {
     "name": "stdout",
     "output_type": "stream",
     "text": [
      "this model type is.train\n",
      "this model type is.train\n"
     ]
    },
    {
     "name": "stderr",
     "output_type": "stream",
     "text": [
      "16:19:31 - cmdstanpy - INFO - Chain [1] start processing\n",
      "16:19:31 - cmdstanpy - INFO - Chain [1] done processing\n",
      "16:19:31 - cmdstanpy - INFO - Chain [1] done processing\n"
     ]
    },
    {
     "name": "stdout",
     "output_type": "stream",
     "text": [
      "this model type is.train\n",
      "this model type is.train\n"
     ]
    },
    {
     "name": "stderr",
     "output_type": "stream",
     "text": [
      "16:19:32 - cmdstanpy - INFO - Chain [1] start processing\n",
      "16:19:32 - cmdstanpy - INFO - Chain [1] start processing\n",
      "16:19:32 - cmdstanpy - INFO - Chain [1] done processing\n"
     ]
    },
    {
     "name": "stdout",
     "output_type": "stream",
     "text": [
      "this model type is.train\n"
     ]
    },
    {
     "name": "stderr",
     "output_type": "stream",
     "text": [
      "16:19:32 - cmdstanpy - INFO - Chain [1] start processing\n",
      "16:19:32 - cmdstanpy - INFO - Chain [1] done processing\n"
     ]
    },
    {
     "name": "stdout",
     "output_type": "stream",
     "text": [
      "this model type is.train\n",
      "this model type is.train\n"
     ]
    },
    {
     "name": "stderr",
     "output_type": "stream",
     "text": [
      "16:19:32 - cmdstanpy - INFO - Chain [1] done processing\n",
      "16:19:32 - cmdstanpy - INFO - Chain [1] start processing\n",
      "16:19:32 - cmdstanpy - INFO - Chain [1] start processing\n",
      "16:19:32 - cmdstanpy - INFO - Chain [1] done processing\n",
      "16:19:32 - cmdstanpy - INFO - Chain [1] done processing\n",
      "16:19:32 - cmdstanpy - INFO - Chain [1] start processing\n",
      "16:19:33 - cmdstanpy - INFO - Chain [1] start processing\n"
     ]
    },
    {
     "name": "stdout",
     "output_type": "stream",
     "text": [
      "this model type is.train\n",
      "this model type is.train\n"
     ]
    },
    {
     "name": "stderr",
     "output_type": "stream",
     "text": [
      "16:19:33 - cmdstanpy - INFO - Chain [1] done processing\n",
      "16:19:33 - cmdstanpy - INFO - Chain [1] done processing\n",
      "16:19:33 - cmdstanpy - INFO - Chain [1] start processing\n"
     ]
    },
    {
     "name": "stdout",
     "output_type": "stream",
     "text": [
      "this model type is.train\n",
      "this model type is.train\n"
     ]
    },
    {
     "name": "stderr",
     "output_type": "stream",
     "text": [
      "16:19:33 - cmdstanpy - INFO - Chain [1] start processing\n",
      "16:19:33 - cmdstanpy - INFO - Chain [1] done processing\n",
      "16:19:33 - cmdstanpy - INFO - Chain [1] done processing\n",
      "16:19:33 - cmdstanpy - INFO - Chain [1] start processing\n"
     ]
    },
    {
     "name": "stdout",
     "output_type": "stream",
     "text": [
      "this model type is.train\n",
      "this model type is.train\n"
     ]
    },
    {
     "name": "stderr",
     "output_type": "stream",
     "text": [
      "16:19:33 - cmdstanpy - INFO - Chain [1] done processing\n",
      "16:19:33 - cmdstanpy - INFO - Chain [1] start processing\n",
      "16:19:33 - cmdstanpy - INFO - Chain [1] done processing\n",
      "16:19:33 - cmdstanpy - INFO - Chain [1] start processing\n"
     ]
    },
    {
     "name": "stdout",
     "output_type": "stream",
     "text": [
      "this model type is.train\n",
      "this model type is.train\n"
     ]
    },
    {
     "name": "stderr",
     "output_type": "stream",
     "text": [
      "16:19:33 - cmdstanpy - INFO - Chain [1] done processing\n",
      "16:19:33 - cmdstanpy - INFO - Chain [1] start processing\n",
      "16:19:34 - cmdstanpy - INFO - Chain [1] start processing\n"
     ]
    },
    {
     "name": "stdout",
     "output_type": "stream",
     "text": [
      "this model type is.train\n"
     ]
    },
    {
     "name": "stderr",
     "output_type": "stream",
     "text": [
      "16:19:34 - cmdstanpy - INFO - Chain [1] done processing\n",
      "16:19:34 - cmdstanpy - INFO - Chain [1] done processing\n",
      "16:19:34 - cmdstanpy - INFO - Chain [1] start processing\n"
     ]
    },
    {
     "name": "stdout",
     "output_type": "stream",
     "text": [
      "this model type is.train\n",
      "this model type is.train\n"
     ]
    },
    {
     "name": "stderr",
     "output_type": "stream",
     "text": [
      "16:19:34 - cmdstanpy - INFO - Chain [1] start processing\n",
      "16:19:34 - cmdstanpy - INFO - Chain [1] done processing\n",
      "16:19:34 - cmdstanpy - INFO - Chain [1] start processing\n"
     ]
    },
    {
     "name": "stdout",
     "output_type": "stream",
     "text": [
      "this model type is.train\n"
     ]
    },
    {
     "name": "stderr",
     "output_type": "stream",
     "text": [
      "16:19:34 - cmdstanpy - INFO - Chain [1] done processing\n",
      "16:19:34 - cmdstanpy - INFO - Chain [1] done processing\n",
      "16:19:34 - cmdstanpy - INFO - Chain [1] start processing\n"
     ]
    },
    {
     "name": "stdout",
     "output_type": "stream",
     "text": [
      "this model type is.train\n",
      "this model type is.train\n"
     ]
    },
    {
     "name": "stderr",
     "output_type": "stream",
     "text": [
      "16:19:34 - cmdstanpy - INFO - Chain [1] start processing\n",
      "16:19:35 - cmdstanpy - INFO - Chain [1] done processing\n",
      "16:19:35 - cmdstanpy - INFO - Chain [1] done processing\n"
     ]
    },
    {
     "name": "stdout",
     "output_type": "stream",
     "text": [
      "this model type is.train\n",
      "this model type is.train\n"
     ]
    },
    {
     "name": "stderr",
     "output_type": "stream",
     "text": [
      "16:19:35 - cmdstanpy - INFO - Chain [1] start processing\n",
      "16:19:35 - cmdstanpy - INFO - Chain [1] start processing\n",
      "16:19:35 - cmdstanpy - INFO - Chain [1] done processing\n",
      "16:19:35 - cmdstanpy - INFO - Chain [1] done processing\n"
     ]
    },
    {
     "name": "stdout",
     "output_type": "stream",
     "text": [
      "this model type is.train\n",
      "this model type is.train\n"
     ]
    },
    {
     "name": "stderr",
     "output_type": "stream",
     "text": [
      "16:19:35 - cmdstanpy - INFO - Chain [1] start processing\n",
      "16:19:35 - cmdstanpy - INFO - Chain [1] start processing\n",
      "16:19:35 - cmdstanpy - INFO - Chain [1] done processing\n",
      "16:19:35 - cmdstanpy - INFO - Chain [1] done processing\n"
     ]
    },
    {
     "name": "stdout",
     "output_type": "stream",
     "text": [
      "this model type is.train\n",
      "this model type is.train\n"
     ]
    },
    {
     "name": "stderr",
     "output_type": "stream",
     "text": [
      "16:19:35 - cmdstanpy - INFO - Chain [1] start processing\n",
      "16:19:35 - cmdstanpy - INFO - Chain [1] start processing\n",
      "16:19:35 - cmdstanpy - INFO - Chain [1] done processing\n"
     ]
    },
    {
     "name": "stdout",
     "output_type": "stream",
     "text": [
      "this model type is.train\n",
      "this model type is.train\n"
     ]
    },
    {
     "name": "stderr",
     "output_type": "stream",
     "text": [
      "16:19:36 - cmdstanpy - INFO - Chain [1] done processing\n",
      "16:19:36 - cmdstanpy - INFO - Chain [1] start processing\n",
      "16:19:36 - cmdstanpy - INFO - Chain [1] start processing\n",
      "16:19:36 - cmdstanpy - INFO - Chain [1] done processing\n"
     ]
    },
    {
     "name": "stdout",
     "output_type": "stream",
     "text": [
      "this model type is.train\n",
      "this model type is.train\n"
     ]
    },
    {
     "name": "stderr",
     "output_type": "stream",
     "text": [
      "16:19:36 - cmdstanpy - INFO - Chain [1] done processing\n",
      "16:19:36 - cmdstanpy - INFO - Chain [1] start processing\n",
      "16:19:36 - cmdstanpy - INFO - Chain [1] start processing\n",
      "16:19:36 - cmdstanpy - INFO - Chain [1] done processing\n",
      "16:19:36 - cmdstanpy - INFO - Chain [1] done processing\n",
      "16:19:36 - cmdstanpy - INFO - Chain [1] start processing\n",
      "16:19:36 - cmdstanpy - INFO - Chain [1] start processing\n"
     ]
    },
    {
     "name": "stdout",
     "output_type": "stream",
     "text": [
      "this model type is.train\n",
      "this model type is.train\n"
     ]
    },
    {
     "name": "stderr",
     "output_type": "stream",
     "text": [
      "16:19:36 - cmdstanpy - INFO - Chain [1] done processing\n",
      "16:19:37 - cmdstanpy - INFO - Chain [1] done processing\n",
      "16:19:37 - cmdstanpy - INFO - Chain [1] start processing\n",
      "16:19:37 - cmdstanpy - INFO - Chain [1] start processing\n"
     ]
    },
    {
     "name": "stdout",
     "output_type": "stream",
     "text": [
      "this model type is.train\n",
      "this model type is.train\n"
     ]
    },
    {
     "name": "stderr",
     "output_type": "stream",
     "text": [
      "16:19:37 - cmdstanpy - INFO - Chain [1] done processing\n",
      "16:19:37 - cmdstanpy - INFO - Chain [1] done processing\n",
      "16:19:37 - cmdstanpy - INFO - Chain [1] start processing\n",
      "16:19:37 - cmdstanpy - INFO - Chain [1] start processing\n"
     ]
    },
    {
     "name": "stdout",
     "output_type": "stream",
     "text": [
      "this model type is.train\n",
      "this model type is.train\n"
     ]
    },
    {
     "name": "stderr",
     "output_type": "stream",
     "text": [
      "16:19:37 - cmdstanpy - INFO - Chain [1] done processing\n",
      "16:19:37 - cmdstanpy - INFO - Chain [1] done processing\n",
      "16:19:37 - cmdstanpy - INFO - Chain [1] start processing\n"
     ]
    },
    {
     "name": "stdout",
     "output_type": "stream",
     "text": [
      "this model type is.train\n",
      "this model type is.train\n"
     ]
    },
    {
     "name": "stderr",
     "output_type": "stream",
     "text": [
      "16:19:37 - cmdstanpy - INFO - Chain [1] start processing\n",
      "16:19:38 - cmdstanpy - INFO - Chain [1] done processing\n",
      "16:19:38 - cmdstanpy - INFO - Chain [1] done processing\n"
     ]
    },
    {
     "name": "stdout",
     "output_type": "stream",
     "text": [
      "this model type is.train\n",
      "this model type is.train\n"
     ]
    },
    {
     "name": "stderr",
     "output_type": "stream",
     "text": [
      "16:19:38 - cmdstanpy - INFO - Chain [1] start processing\n",
      "16:19:38 - cmdstanpy - INFO - Chain [1] start processing\n",
      "16:19:38 - cmdstanpy - INFO - Chain [1] done processing\n",
      "16:19:38 - cmdstanpy - INFO - Chain [1] done processing\n"
     ]
    },
    {
     "name": "stdout",
     "output_type": "stream",
     "text": [
      "this model type is.train\n",
      "this model type is.train\n"
     ]
    },
    {
     "name": "stderr",
     "output_type": "stream",
     "text": [
      "16:19:38 - cmdstanpy - INFO - Chain [1] start processing\n",
      "16:19:38 - cmdstanpy - INFO - Chain [1] start processing\n",
      "16:19:38 - cmdstanpy - INFO - Chain [1] done processing\n",
      "16:19:38 - cmdstanpy - INFO - Chain [1] done processing\n"
     ]
    },
    {
     "name": "stdout",
     "output_type": "stream",
     "text": [
      "this model type is.train\n",
      "this model type is.train\n"
     ]
    },
    {
     "name": "stderr",
     "output_type": "stream",
     "text": [
      "16:19:39 - cmdstanpy - INFO - Chain [1] start processing\n",
      "16:19:39 - cmdstanpy - INFO - Chain [1] start processing\n",
      "16:19:39 - cmdstanpy - INFO - Chain [1] done processing\n"
     ]
    },
    {
     "name": "stdout",
     "output_type": "stream",
     "text": [
      "this model type is.train\n",
      "this model type is.train\n"
     ]
    },
    {
     "name": "stderr",
     "output_type": "stream",
     "text": [
      "16:19:39 - cmdstanpy - INFO - Chain [1] done processing\n",
      "16:19:39 - cmdstanpy - INFO - Chain [1] start processing\n",
      "16:19:39 - cmdstanpy - INFO - Chain [1] start processing\n",
      "16:19:39 - cmdstanpy - INFO - Chain [1] done processing\n"
     ]
    },
    {
     "name": "stdout",
     "output_type": "stream",
     "text": [
      "this model type is.train\n",
      "this model type is.train\n"
     ]
    },
    {
     "name": "stderr",
     "output_type": "stream",
     "text": [
      "16:19:39 - cmdstanpy - INFO - Chain [1] start processing\n",
      "16:19:39 - cmdstanpy - INFO - Chain [1] done processing\n",
      "16:19:39 - cmdstanpy - INFO - Chain [1] done processing\n",
      "16:19:39 - cmdstanpy - INFO - Chain [1] start processing\n"
     ]
    },
    {
     "name": "stdout",
     "output_type": "stream",
     "text": [
      "this model type is.train\n"
     ]
    },
    {
     "name": "stderr",
     "output_type": "stream",
     "text": [
      "16:19:40 - cmdstanpy - INFO - Chain [1] start processing\n",
      "16:19:40 - cmdstanpy - INFO - Chain [1] done processing\n",
      "16:19:40 - cmdstanpy - INFO - Chain [1] done processing\n"
     ]
    },
    {
     "name": "stdout",
     "output_type": "stream",
     "text": [
      "this model type is.train\n",
      "this model type is.train\n"
     ]
    },
    {
     "name": "stderr",
     "output_type": "stream",
     "text": [
      "16:19:40 - cmdstanpy - INFO - Chain [1] start processing\n",
      "16:19:40 - cmdstanpy - INFO - Chain [1] start processing\n",
      "16:19:40 - cmdstanpy - INFO - Chain [1] done processing\n",
      "16:19:40 - cmdstanpy - INFO - Chain [1] done processing\n"
     ]
    },
    {
     "name": "stdout",
     "output_type": "stream",
     "text": [
      "this model type is.train\n",
      "this model type is.train\n"
     ]
    },
    {
     "name": "stderr",
     "output_type": "stream",
     "text": [
      "16:19:40 - cmdstanpy - INFO - Chain [1] start processing\n",
      "16:19:40 - cmdstanpy - INFO - Chain [1] start processing\n",
      "16:19:40 - cmdstanpy - INFO - Chain [1] done processing\n",
      "16:19:40 - cmdstanpy - INFO - Chain [1] done processing\n"
     ]
    },
    {
     "name": "stdout",
     "output_type": "stream",
     "text": [
      "this model type is.train\n",
      "this model type is.train\n"
     ]
    },
    {
     "name": "stderr",
     "output_type": "stream",
     "text": [
      "16:19:41 - cmdstanpy - INFO - Chain [1] start processing\n",
      "16:19:41 - cmdstanpy - INFO - Chain [1] start processing\n",
      "16:19:41 - cmdstanpy - INFO - Chain [1] done processing\n",
      "16:19:41 - cmdstanpy - INFO - Chain [1] done processing\n",
      "16:19:41 - cmdstanpy - INFO - Chain [1] start processing\n",
      "16:19:41 - cmdstanpy - INFO - Chain [1] start processing\n"
     ]
    },
    {
     "name": "stdout",
     "output_type": "stream",
     "text": [
      "this model type is.train\n",
      "this model type is.train\n"
     ]
    },
    {
     "name": "stderr",
     "output_type": "stream",
     "text": [
      "16:19:41 - cmdstanpy - INFO - Chain [1] done processing\n",
      "16:19:41 - cmdstanpy - INFO - Chain [1] done processing\n",
      "16:19:41 - cmdstanpy - INFO - Chain [1] start processing\n"
     ]
    },
    {
     "name": "stdout",
     "output_type": "stream",
     "text": [
      "this model type is.train\n",
      "this model type is.train\n"
     ]
    },
    {
     "name": "stderr",
     "output_type": "stream",
     "text": [
      "16:19:41 - cmdstanpy - INFO - Chain [1] start processing\n",
      "16:19:42 - cmdstanpy - INFO - Chain [1] done processing\n",
      "16:19:42 - cmdstanpy - INFO - Chain [1] done processing\n",
      "16:19:42 - cmdstanpy - INFO - Chain [1] start processing\n",
      "16:19:42 - cmdstanpy - INFO - Chain [1] start processing\n"
     ]
    },
    {
     "name": "stdout",
     "output_type": "stream",
     "text": [
      "this model type is.train\n",
      "this model type is.train\n"
     ]
    },
    {
     "name": "stderr",
     "output_type": "stream",
     "text": [
      "16:19:42 - cmdstanpy - INFO - Chain [1] done processing\n",
      "16:19:42 - cmdstanpy - INFO - Chain [1] done processing\n",
      "16:19:42 - cmdstanpy - INFO - Chain [1] start processing\n",
      "16:19:42 - cmdstanpy - INFO - Chain [1] start processing\n"
     ]
    },
    {
     "name": "stdout",
     "output_type": "stream",
     "text": [
      "this model type is.train\n",
      "this model type is.train\n"
     ]
    },
    {
     "name": "stderr",
     "output_type": "stream",
     "text": [
      "16:19:42 - cmdstanpy - INFO - Chain [1] done processing\n",
      "16:19:42 - cmdstanpy - INFO - Chain [1] done processing\n",
      "16:19:42 - cmdstanpy - INFO - Chain [1] start processing\n",
      "16:19:42 - cmdstanpy - INFO - Chain [1] start processing\n"
     ]
    },
    {
     "name": "stdout",
     "output_type": "stream",
     "text": [
      "this model type is.train\n",
      "this model type is.train\n"
     ]
    },
    {
     "name": "stderr",
     "output_type": "stream",
     "text": [
      "16:19:43 - cmdstanpy - INFO - Chain [1] done processing\n",
      "16:19:43 - cmdstanpy - INFO - Chain [1] done processing\n",
      "16:19:43 - cmdstanpy - INFO - Chain [1] start processing\n",
      "16:19:43 - cmdstanpy - INFO - Chain [1] start processing\n"
     ]
    },
    {
     "name": "stdout",
     "output_type": "stream",
     "text": [
      "this model type is.train\n",
      "this model type is.train\n"
     ]
    },
    {
     "name": "stderr",
     "output_type": "stream",
     "text": [
      "16:19:43 - cmdstanpy - INFO - Chain [1] done processing\n",
      "16:19:43 - cmdstanpy - INFO - Chain [1] done processing\n",
      "16:19:43 - cmdstanpy - INFO - Chain [1] start processing\n",
      "16:19:43 - cmdstanpy - INFO - Chain [1] start processing\n"
     ]
    },
    {
     "name": "stdout",
     "output_type": "stream",
     "text": [
      "this model type is.train\n",
      "this model type is.train\n"
     ]
    },
    {
     "name": "stderr",
     "output_type": "stream",
     "text": [
      "16:19:43 - cmdstanpy - INFO - Chain [1] done processing\n",
      "16:19:43 - cmdstanpy - INFO - Chain [1] done processing\n",
      "16:19:43 - cmdstanpy - INFO - Chain [1] start processing\n",
      "16:19:43 - cmdstanpy - INFO - Chain [1] start processing\n"
     ]
    },
    {
     "name": "stdout",
     "output_type": "stream",
     "text": [
      "this model type is.train\n",
      "this model type is.train\n"
     ]
    },
    {
     "name": "stderr",
     "output_type": "stream",
     "text": [
      "16:19:44 - cmdstanpy - INFO - Chain [1] done processing\n",
      "16:19:44 - cmdstanpy - INFO - Chain [1] done processing\n",
      "16:19:44 - cmdstanpy - INFO - Chain [1] start processing\n"
     ]
    },
    {
     "name": "stdout",
     "output_type": "stream",
     "text": [
      "this model type is.train\n",
      "this model type is.train\n"
     ]
    },
    {
     "name": "stderr",
     "output_type": "stream",
     "text": [
      "16:19:44 - cmdstanpy - INFO - Chain [1] start processing\n",
      "16:19:44 - cmdstanpy - INFO - Chain [1] done processing\n",
      "16:19:44 - cmdstanpy - INFO - Chain [1] done processing\n"
     ]
    },
    {
     "name": "stdout",
     "output_type": "stream",
     "text": [
      "this model type is.train\n",
      "this model type is.train\n"
     ]
    },
    {
     "name": "stderr",
     "output_type": "stream",
     "text": [
      "16:19:44 - cmdstanpy - INFO - Chain [1] start processing\n",
      "16:19:44 - cmdstanpy - INFO - Chain [1] start processing\n",
      "16:19:44 - cmdstanpy - INFO - Chain [1] done processing\n",
      "16:19:45 - cmdstanpy - INFO - Chain [1] done processing\n"
     ]
    },
    {
     "name": "stdout",
     "output_type": "stream",
     "text": [
      "this model type is.train\n",
      "this model type is.train\n"
     ]
    },
    {
     "name": "stderr",
     "output_type": "stream",
     "text": [
      "16:19:45 - cmdstanpy - INFO - Chain [1] start processing\n",
      "16:19:45 - cmdstanpy - INFO - Chain [1] start processing\n",
      "16:19:45 - cmdstanpy - INFO - Chain [1] done processing\n",
      "16:19:45 - cmdstanpy - INFO - Chain [1] done processing\n"
     ]
    },
    {
     "name": "stdout",
     "output_type": "stream",
     "text": [
      "this model type is.train\n",
      "this model type is.train\n"
     ]
    },
    {
     "name": "stderr",
     "output_type": "stream",
     "text": [
      "16:19:45 - cmdstanpy - INFO - Chain [1] start processing\n",
      "16:19:45 - cmdstanpy - INFO - Chain [1] done processing\n"
     ]
    },
    {
     "name": "stdout",
     "output_type": "stream",
     "text": [
      "this model type is.train\n"
     ]
    }
   ],
   "source": [
    "args={}\n",
    "args['task_type'] = 'pickup'\n",
    "args['model_type'] = 'train'\n",
    "args['parallel_type'] = 'multi_threading'\n",
    "args['n_step'] = 28\n",
    "\n",
    "forecast_result = pd.DataFrame()\n",
    "list_item = sale_df['id'].unique().tolist()\n",
    "split_nums = max(len(list_item) // 200, 1)\n",
    "for part in np.array_split(list_item, split_nums):\n",
    "    part_df = sale_df[sale_df['id'].isin(part)]\n",
    "    part_frophet_result = ProphetModel(args).model_main(df=part_df)\n",
    "    forecast_result = pd.concat([forecast_result, part_frophet_result], axis=0)"
   ]
  },
  {
   "cell_type": "code",
   "execution_count": 15,
   "metadata": {},
   "outputs": [
    {
     "data": {
      "text/html": [
       "<div>\n",
       "<style scoped>\n",
       "    .dataframe tbody tr th:only-of-type {\n",
       "        vertical-align: middle;\n",
       "    }\n",
       "\n",
       "    .dataframe tbody tr th {\n",
       "        vertical-align: top;\n",
       "    }\n",
       "\n",
       "    .dataframe thead th {\n",
       "        text-align: right;\n",
       "    }\n",
       "</style>\n",
       "<table border=\"1\" class=\"dataframe\">\n",
       "  <thead>\n",
       "    <tr style=\"text-align: right;\">\n",
       "      <th></th>\n",
       "      <th>id</th>\n",
       "      <th>ds</th>\n",
       "      <th>pro_pred</th>\n",
       "    </tr>\n",
       "  </thead>\n",
       "  <tbody>\n",
       "    <tr>\n",
       "      <th>100</th>\n",
       "      <td>010Y</td>\n",
       "      <td>2022-02-23</td>\n",
       "      <td>1.323596e+06</td>\n",
       "    </tr>\n",
       "    <tr>\n",
       "      <th>101</th>\n",
       "      <td>010Y</td>\n",
       "      <td>2022-02-24</td>\n",
       "      <td>1.301989e+06</td>\n",
       "    </tr>\n",
       "    <tr>\n",
       "      <th>102</th>\n",
       "      <td>010Y</td>\n",
       "      <td>2022-02-25</td>\n",
       "      <td>1.295092e+06</td>\n",
       "    </tr>\n",
       "    <tr>\n",
       "      <th>103</th>\n",
       "      <td>010Y</td>\n",
       "      <td>2022-02-26</td>\n",
       "      <td>1.143616e+06</td>\n",
       "    </tr>\n",
       "    <tr>\n",
       "      <th>104</th>\n",
       "      <td>010Y</td>\n",
       "      <td>2022-02-27</td>\n",
       "      <td>9.729463e+05</td>\n",
       "    </tr>\n",
       "  </tbody>\n",
       "</table>\n",
       "</div>"
      ],
      "text/plain": [
       "       id         ds      pro_pred\n",
       "100  010Y 2022-02-23  1.323596e+06\n",
       "101  010Y 2022-02-24  1.301989e+06\n",
       "102  010Y 2022-02-25  1.295092e+06\n",
       "103  010Y 2022-02-26  1.143616e+06\n",
       "104  010Y 2022-02-27  9.729463e+05"
      ]
     },
     "execution_count": 15,
     "metadata": {},
     "output_type": "execute_result"
    }
   ],
   "source": [
    "forecast_result.head()"
   ]
  },
  {
   "cell_type": "code",
   "execution_count": 27,
   "metadata": {},
   "outputs": [
    {
     "data": {
      "image/png": "[encoded data removed]",
      "text/plain": [
       "<Figure size 640x480 with 1 Axes>"
      ]
     },
     "metadata": {},
     "output_type": "display_data"
    }
   ],
   "source": [
    "plt.plot(forecast_result[forecast_result['id']=='010Y'].ds, forecast_result[forecast_result['id']=='010Y'].pro_pred)\n",
    "plt.plot(pd.to_datetime(traindf[traindf['id'].isin(['010Y'])].ds), traindf[traindf['id'].isin(['010Y'])].y)\n",
    "plt.plot(pd.to_datetime(testdf[testdf['id'].isin(['010Y'])].ds), testdf[testdf['id'].isin(['010Y'])].y)\n",
    "\n",
    "plt.xticks(rotation = 70)\n",
    "plt.show()"
   ]
  },
  {
   "cell_type": "code",
   "execution_count": 46,
   "metadata": {},
   "outputs": [],
   "source": [
    "forecast_result['version'] = 1\n",
    "forecast_result['input_version'] = 'T+{}'.format(args['n_step'])\n",
    "forecast_result['flags'] = 1\n",
    "forecast_result['record_time'] = str(datetime.now())\n",
    "forecast_result.rename(columns={'ds': 'predicted_datetime', 'pro_pred': 'predict_value', 'id': 'object_code'},inplace=True)\n",
    "forecast_result['inc_day'] = forecast_result['predicted_datetime']\n",
    "forecast_result['model_version'] = 'T{n_step}-prophet'.format(n_step=args['n_step'])\n",
    "forecast_result['object_type'] = args['task_type']\n",
    "forecast_result.reset_index(drop=True).to_csv('./output/dm_ordi_predict.zone_qty_predict_day_long_{}d.csv'.format(args['n_step']))"
   ]
  }
 ],
 "metadata": {
  "kernelspec": {
   "display_name": "SF",
   "language": "python",
   "name": "python3"
  },
  "language_info": {
   "codemirror_mode": {
    "name": "ipython",
    "version": 3
   },
   "file_extension": ".py",
   "mimetype": "text/x-python",
   "name": "python",
   "nbconvert_exporter": "python",
   "pygments_lexer": "ipython3",
   "version": "3.9.16"
  },
  "orig_nbformat": 4
 },
 "nbformat": 4,
 "nbformat_minor": 2
}
